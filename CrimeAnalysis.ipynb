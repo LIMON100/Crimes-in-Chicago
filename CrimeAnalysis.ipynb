{
 "cells": [
  {
   "cell_type": "markdown",
   "metadata": {
    "colab_type": "text",
    "id": "BnV6gEcWZLyU"
   },
   "source": [
    "# Project : Crime Analysis in Chicago by Facebook Prophet"
   ]
  },
  {
   "cell_type": "code",
   "execution_count": 0,
   "metadata": {
    "colab": {
     "base_uri": "https://localhost:8080/",
     "height": 68
    },
    "colab_type": "code",
    "id": "NwXHjizEZQbs",
    "outputId": "38eb1167-4973-422f-e50c-cc6630384279"
   },
   "outputs": [
    {
     "name": "stdout",
     "output_type": "stream",
     "text": [
      "Requirement already satisfied: pystan in /usr/local/lib/python3.6/dist-packages (2.19.1.1)\n",
      "Requirement already satisfied: numpy>=1.7 in /usr/local/lib/python3.6/dist-packages (from pystan) (1.18.3)\n",
      "Requirement already satisfied: Cython!=0.25.1,>=0.22 in /usr/local/lib/python3.6/dist-packages (from pystan) (0.29.16)\n"
     ]
    }
   ],
   "source": [
    "!pip install pystan"
   ]
  },
  {
   "cell_type": "code",
   "execution_count": 0,
   "metadata": {
    "colab": {
     "base_uri": "https://localhost:8080/",
     "height": 340
    },
    "colab_type": "code",
    "id": "LoeJf3rZZrqt",
    "outputId": "a326a139-31e2-47f4-890a-8efcd5267cfd"
   },
   "outputs": [
    {
     "name": "stdout",
     "output_type": "stream",
     "text": [
      "Requirement already satisfied: fbprophet in /usr/local/lib/python3.6/dist-packages (0.6)\n",
      "Requirement already satisfied: Cython>=0.22 in /usr/local/lib/python3.6/dist-packages (from fbprophet) (0.29.16)\n",
      "Requirement already satisfied: cmdstanpy==0.4 in /usr/local/lib/python3.6/dist-packages (from fbprophet) (0.4.0)\n",
      "Requirement already satisfied: pystan>=2.14 in /usr/local/lib/python3.6/dist-packages (from fbprophet) (2.19.1.1)\n",
      "Requirement already satisfied: numpy>=1.10.0 in /usr/local/lib/python3.6/dist-packages (from fbprophet) (1.18.3)\n",
      "Requirement already satisfied: pandas>=0.23.4 in /usr/local/lib/python3.6/dist-packages (from fbprophet) (1.0.3)\n",
      "Requirement already satisfied: matplotlib>=2.0.0 in /usr/local/lib/python3.6/dist-packages (from fbprophet) (3.2.1)\n",
      "Requirement already satisfied: LunarCalendar>=0.0.9 in /usr/local/lib/python3.6/dist-packages (from fbprophet) (0.0.9)\n",
      "Requirement already satisfied: convertdate>=2.1.2 in /usr/local/lib/python3.6/dist-packages (from fbprophet) (2.2.0)\n",
      "Requirement already satisfied: holidays>=0.9.5 in /usr/local/lib/python3.6/dist-packages (from fbprophet) (0.9.12)\n",
      "Requirement already satisfied: setuptools-git>=1.2 in /usr/local/lib/python3.6/dist-packages (from fbprophet) (1.2)\n",
      "Requirement already satisfied: python-dateutil>=2.8.0 in /usr/local/lib/python3.6/dist-packages (from fbprophet) (2.8.1)\n",
      "Requirement already satisfied: pytz>=2017.2 in /usr/local/lib/python3.6/dist-packages (from pandas>=0.23.4->fbprophet) (2018.9)\n",
      "Requirement already satisfied: kiwisolver>=1.0.1 in /usr/local/lib/python3.6/dist-packages (from matplotlib>=2.0.0->fbprophet) (1.2.0)\n",
      "Requirement already satisfied: cycler>=0.10 in /usr/local/lib/python3.6/dist-packages (from matplotlib>=2.0.0->fbprophet) (0.10.0)\n",
      "Requirement already satisfied: pyparsing!=2.0.4,!=2.1.2,!=2.1.6,>=2.0.1 in /usr/local/lib/python3.6/dist-packages (from matplotlib>=2.0.0->fbprophet) (2.4.7)\n",
      "Requirement already satisfied: ephem>=3.7.5.3 in /usr/local/lib/python3.6/dist-packages (from LunarCalendar>=0.0.9->fbprophet) (3.7.7.1)\n",
      "Requirement already satisfied: pymeeus<=1,>=0.3.6 in /usr/local/lib/python3.6/dist-packages (from convertdate>=2.1.2->fbprophet) (0.3.7)\n",
      "Requirement already satisfied: six in /usr/local/lib/python3.6/dist-packages (from holidays>=0.9.5->fbprophet) (1.12.0)\n"
     ]
    }
   ],
   "source": [
    "!pip install fbprophet"
   ]
  },
  {
   "cell_type": "code",
   "execution_count": 0,
   "metadata": {
    "colab": {},
    "colab_type": "code",
    "id": "la2S8QIobnLN"
   },
   "outputs": [],
   "source": [
    "!pip install -U -q PyDrive\n",
    "from pydrive.auth import GoogleAuth\n",
    "from pydrive.drive import GoogleDrive\n",
    "from google.colab import auth\n",
    "from oauth2client.client import GoogleCredentials"
   ]
  },
  {
   "cell_type": "code",
   "execution_count": 0,
   "metadata": {
    "colab": {},
    "colab_type": "code",
    "id": "12_BQ5ZPbnQa"
   },
   "outputs": [],
   "source": [
    "auth.authenticate_user()\n",
    "gauth = GoogleAuth()\n",
    "gauth.credentials = GoogleCredentials.get_application_default()\n",
    "drive = GoogleDrive(gauth)"
   ]
  },
  {
   "cell_type": "code",
   "execution_count": 0,
   "metadata": {
    "colab": {},
    "colab_type": "code",
    "id": "LGZtbc_ZbnZR"
   },
   "outputs": [],
   "source": [
    "downloaded = drive.CreateFile({'id':'1irgVBpGpLHWKbDvuMgor9_bNCdNUSH9r'}) \n",
    "downloaded.GetContentFile('Chicago_Crimes_2005_to_2007.csv') \n",
    "\n",
    "downloaded1 = drive.CreateFile({'id':'13XZqaCw7CoWTehKWik9mknvasNJhR1np'}) \n",
    "downloaded1.GetContentFile('Chicago_Crimes_2008_to_2011.csv')\n",
    "\n",
    "downloaded2 = drive.CreateFile({'id':'1mYyfTrB474qKZqngQVo0UAlwxFseYROL'}) \n",
    "downloaded2.GetContentFile('Chicago_Crimes_2012_to_2017.csv')"
   ]
  },
  {
   "cell_type": "code",
   "execution_count": 1,
   "metadata": {
    "colab": {
     "base_uri": "https://localhost:8080/",
     "height": 71
    },
    "colab_type": "code",
    "id": "ZeYjhNUcZLyW",
    "outputId": "a5a2c9ee-0cfb-433c-86c7-46e18ff202c8"
   },
   "outputs": [],
   "source": [
    "## loading the library\n",
    "\n",
    "import pandas as pd\n",
    "import numpy as np\n",
    "import matplotlib.pyplot as plt\n",
    "import seaborn as sns\n",
    "import random\n",
    "\n",
    "#from fbprophet import Prophet"
   ]
  },
  {
   "cell_type": "code",
   "execution_count": 2,
   "metadata": {
    "colab": {
     "base_uri": "https://localhost:8080/",
     "height": 51
    },
    "colab_type": "code",
    "id": "PZTkfxAcZLyg",
    "outputId": "f5d55ae4-93e1-4692-87bb-3d7e74b19913"
   },
   "outputs": [
    {
     "name": "stderr",
     "output_type": "stream",
     "text": [
      "b'Skipping line 533719: expected 23 fields, saw 24\\n'\n",
      "b'Skipping line 1149094: expected 23 fields, saw 41\\n'\n"
     ]
    }
   ],
   "source": [
    "# load the dataset\n",
    "\n",
    "dataset1 = pd.read_csv('Chicago_Crimes_2005_to_2007.csv', error_bad_lines=False)\n",
    "dataset2 = pd.read_csv('Chicago_Crimes_2008_to_2011.csv', error_bad_lines=False)\n",
    "dataset3 = pd.read_csv('Chicago_Crimes_2012_to_2017.csv', error_bad_lines=False)"
   ]
  },
  {
   "cell_type": "markdown",
   "metadata": {
    "colab_type": "text",
    "id": "GR7xAThpZLyn"
   },
   "source": [
    "There is some problem loading this dataset.That's why here use 'error_bad_lines'.This can reduce the problem on loading the dataset.It is shown that there are some problem in the dataset and it skit all of this."
   ]
  },
  {
   "cell_type": "code",
   "execution_count": 3,
   "metadata": {
    "colab": {
     "base_uri": "https://localhost:8080/",
     "height": 411
    },
    "colab_type": "code",
    "id": "jV0YAEvOZLyo",
    "outputId": "627f198a-3325-4f32-b1e5-e57cc54ffae0"
   },
   "outputs": [
    {
     "data": {
      "text/html": [
       "<div>\n",
       "<style scoped>\n",
       "    .dataframe tbody tr th:only-of-type {\n",
       "        vertical-align: middle;\n",
       "    }\n",
       "\n",
       "    .dataframe tbody tr th {\n",
       "        vertical-align: top;\n",
       "    }\n",
       "\n",
       "    .dataframe thead th {\n",
       "        text-align: right;\n",
       "    }\n",
       "</style>\n",
       "<table border=\"1\" class=\"dataframe\">\n",
       "  <thead>\n",
       "    <tr style=\"text-align: right;\">\n",
       "      <th></th>\n",
       "      <th>Unnamed: 0</th>\n",
       "      <th>ID</th>\n",
       "      <th>Case Number</th>\n",
       "      <th>Date</th>\n",
       "      <th>Block</th>\n",
       "      <th>IUCR</th>\n",
       "      <th>Primary Type</th>\n",
       "      <th>Description</th>\n",
       "      <th>Location Description</th>\n",
       "      <th>Arrest</th>\n",
       "      <th>...</th>\n",
       "      <th>Ward</th>\n",
       "      <th>Community Area</th>\n",
       "      <th>FBI Code</th>\n",
       "      <th>X Coordinate</th>\n",
       "      <th>Y Coordinate</th>\n",
       "      <th>Year</th>\n",
       "      <th>Updated On</th>\n",
       "      <th>Latitude</th>\n",
       "      <th>Longitude</th>\n",
       "      <th>Location</th>\n",
       "    </tr>\n",
       "  </thead>\n",
       "  <tbody>\n",
       "    <tr>\n",
       "      <td>0</td>\n",
       "      <td>0</td>\n",
       "      <td>4673626</td>\n",
       "      <td>HM274058</td>\n",
       "      <td>04/02/2006 01:00:00 PM</td>\n",
       "      <td>055XX N MANGO AVE</td>\n",
       "      <td>2825</td>\n",
       "      <td>OTHER OFFENSE</td>\n",
       "      <td>HARASSMENT BY TELEPHONE</td>\n",
       "      <td>RESIDENCE</td>\n",
       "      <td>False</td>\n",
       "      <td>...</td>\n",
       "      <td>45.0</td>\n",
       "      <td>11.0</td>\n",
       "      <td>26</td>\n",
       "      <td>1136872.0</td>\n",
       "      <td>1936499.0</td>\n",
       "      <td>2006</td>\n",
       "      <td>04/15/2016 08:55:02 AM</td>\n",
       "      <td>41.981913</td>\n",
       "      <td>-87.771996</td>\n",
       "      <td>(41.981912692, -87.771996382)</td>\n",
       "    </tr>\n",
       "    <tr>\n",
       "      <td>1</td>\n",
       "      <td>1</td>\n",
       "      <td>4673627</td>\n",
       "      <td>HM202199</td>\n",
       "      <td>02/26/2006 01:40:48 PM</td>\n",
       "      <td>065XX S RHODES AVE</td>\n",
       "      <td>2017</td>\n",
       "      <td>NARCOTICS</td>\n",
       "      <td>MANU/DELIVER:CRACK</td>\n",
       "      <td>SIDEWALK</td>\n",
       "      <td>True</td>\n",
       "      <td>...</td>\n",
       "      <td>20.0</td>\n",
       "      <td>42.0</td>\n",
       "      <td>18</td>\n",
       "      <td>1181027.0</td>\n",
       "      <td>1861693.0</td>\n",
       "      <td>2006</td>\n",
       "      <td>04/15/2016 08:55:02 AM</td>\n",
       "      <td>41.775733</td>\n",
       "      <td>-87.611920</td>\n",
       "      <td>(41.775732538, -87.611919814)</td>\n",
       "    </tr>\n",
       "    <tr>\n",
       "      <td>2</td>\n",
       "      <td>2</td>\n",
       "      <td>4673628</td>\n",
       "      <td>HM113861</td>\n",
       "      <td>01/08/2006 11:16:00 PM</td>\n",
       "      <td>013XX E 69TH ST</td>\n",
       "      <td>051A</td>\n",
       "      <td>ASSAULT</td>\n",
       "      <td>AGGRAVATED: HANDGUN</td>\n",
       "      <td>OTHER</td>\n",
       "      <td>False</td>\n",
       "      <td>...</td>\n",
       "      <td>5.0</td>\n",
       "      <td>69.0</td>\n",
       "      <td>04A</td>\n",
       "      <td>1186023.0</td>\n",
       "      <td>1859609.0</td>\n",
       "      <td>2006</td>\n",
       "      <td>04/15/2016 08:55:02 AM</td>\n",
       "      <td>41.769897</td>\n",
       "      <td>-87.593671</td>\n",
       "      <td>(41.769897392, -87.593670899)</td>\n",
       "    </tr>\n",
       "    <tr>\n",
       "      <td>3</td>\n",
       "      <td>4</td>\n",
       "      <td>4673629</td>\n",
       "      <td>HM274049</td>\n",
       "      <td>04/05/2006 06:45:00 PM</td>\n",
       "      <td>061XX W NEWPORT AVE</td>\n",
       "      <td>0460</td>\n",
       "      <td>BATTERY</td>\n",
       "      <td>SIMPLE</td>\n",
       "      <td>RESIDENCE</td>\n",
       "      <td>False</td>\n",
       "      <td>...</td>\n",
       "      <td>38.0</td>\n",
       "      <td>17.0</td>\n",
       "      <td>08B</td>\n",
       "      <td>1134772.0</td>\n",
       "      <td>1922299.0</td>\n",
       "      <td>2006</td>\n",
       "      <td>04/15/2016 08:55:02 AM</td>\n",
       "      <td>41.942984</td>\n",
       "      <td>-87.780057</td>\n",
       "      <td>(41.942984005, -87.780056951)</td>\n",
       "    </tr>\n",
       "    <tr>\n",
       "      <td>4</td>\n",
       "      <td>5</td>\n",
       "      <td>4673630</td>\n",
       "      <td>HM187120</td>\n",
       "      <td>02/17/2006 09:03:14 PM</td>\n",
       "      <td>037XX W 60TH ST</td>\n",
       "      <td>1811</td>\n",
       "      <td>NARCOTICS</td>\n",
       "      <td>POSS: CANNABIS 30GMS OR LESS</td>\n",
       "      <td>ALLEY</td>\n",
       "      <td>True</td>\n",
       "      <td>...</td>\n",
       "      <td>13.0</td>\n",
       "      <td>65.0</td>\n",
       "      <td>18</td>\n",
       "      <td>1152412.0</td>\n",
       "      <td>1864560.0</td>\n",
       "      <td>2006</td>\n",
       "      <td>04/15/2016 08:55:02 AM</td>\n",
       "      <td>41.784211</td>\n",
       "      <td>-87.716745</td>\n",
       "      <td>(41.784210853, -87.71674491)</td>\n",
       "    </tr>\n",
       "  </tbody>\n",
       "</table>\n",
       "<p>5 rows × 23 columns</p>\n",
       "</div>"
      ],
      "text/plain": [
       "   Unnamed: 0       ID Case Number                    Date  \\\n",
       "0           0  4673626    HM274058  04/02/2006 01:00:00 PM   \n",
       "1           1  4673627    HM202199  02/26/2006 01:40:48 PM   \n",
       "2           2  4673628    HM113861  01/08/2006 11:16:00 PM   \n",
       "3           4  4673629    HM274049  04/05/2006 06:45:00 PM   \n",
       "4           5  4673630    HM187120  02/17/2006 09:03:14 PM   \n",
       "\n",
       "                 Block  IUCR   Primary Type                   Description  \\\n",
       "0    055XX N MANGO AVE  2825  OTHER OFFENSE       HARASSMENT BY TELEPHONE   \n",
       "1   065XX S RHODES AVE  2017      NARCOTICS            MANU/DELIVER:CRACK   \n",
       "2      013XX E 69TH ST  051A        ASSAULT           AGGRAVATED: HANDGUN   \n",
       "3  061XX W NEWPORT AVE  0460        BATTERY                        SIMPLE   \n",
       "4      037XX W 60TH ST  1811      NARCOTICS  POSS: CANNABIS 30GMS OR LESS   \n",
       "\n",
       "  Location Description  Arrest  ...  Ward  Community Area  FBI Code  \\\n",
       "0            RESIDENCE   False  ...  45.0            11.0        26   \n",
       "1             SIDEWALK    True  ...  20.0            42.0        18   \n",
       "2                OTHER   False  ...   5.0            69.0       04A   \n",
       "3            RESIDENCE   False  ...  38.0            17.0       08B   \n",
       "4                ALLEY    True  ...  13.0            65.0        18   \n",
       "\n",
       "   X Coordinate  Y Coordinate  Year              Updated On   Latitude  \\\n",
       "0     1136872.0     1936499.0  2006  04/15/2016 08:55:02 AM  41.981913   \n",
       "1     1181027.0     1861693.0  2006  04/15/2016 08:55:02 AM  41.775733   \n",
       "2     1186023.0     1859609.0  2006  04/15/2016 08:55:02 AM  41.769897   \n",
       "3     1134772.0     1922299.0  2006  04/15/2016 08:55:02 AM  41.942984   \n",
       "4     1152412.0     1864560.0  2006  04/15/2016 08:55:02 AM  41.784211   \n",
       "\n",
       "   Longitude                       Location  \n",
       "0 -87.771996  (41.981912692, -87.771996382)  \n",
       "1 -87.611920  (41.775732538, -87.611919814)  \n",
       "2 -87.593671  (41.769897392, -87.593670899)  \n",
       "3 -87.780057  (41.942984005, -87.780056951)  \n",
       "4 -87.716745   (41.784210853, -87.71674491)  \n",
       "\n",
       "[5 rows x 23 columns]"
      ]
     },
     "execution_count": 3,
     "metadata": {},
     "output_type": "execute_result"
    }
   ],
   "source": [
    "dataset1.head()"
   ]
  },
  {
   "cell_type": "code",
   "execution_count": 5,
   "metadata": {
    "colab": {
     "base_uri": "https://localhost:8080/",
     "height": 411
    },
    "colab_type": "code",
    "id": "DuyEnYanZLyy",
    "outputId": "00629107-b64a-4e37-8a0a-eb00556c77b2"
   },
   "outputs": [
    {
     "data": {
      "text/html": [
       "<div>\n",
       "<style scoped>\n",
       "    .dataframe tbody tr th:only-of-type {\n",
       "        vertical-align: middle;\n",
       "    }\n",
       "\n",
       "    .dataframe tbody tr th {\n",
       "        vertical-align: top;\n",
       "    }\n",
       "\n",
       "    .dataframe thead th {\n",
       "        text-align: right;\n",
       "    }\n",
       "</style>\n",
       "<table border=\"1\" class=\"dataframe\">\n",
       "  <thead>\n",
       "    <tr style=\"text-align: right;\">\n",
       "      <th></th>\n",
       "      <th>Unnamed: 0</th>\n",
       "      <th>ID</th>\n",
       "      <th>Case Number</th>\n",
       "      <th>Date</th>\n",
       "      <th>Block</th>\n",
       "      <th>IUCR</th>\n",
       "      <th>Primary Type</th>\n",
       "      <th>Description</th>\n",
       "      <th>Location Description</th>\n",
       "      <th>Arrest</th>\n",
       "      <th>...</th>\n",
       "      <th>Ward</th>\n",
       "      <th>Community Area</th>\n",
       "      <th>FBI Code</th>\n",
       "      <th>X Coordinate</th>\n",
       "      <th>Y Coordinate</th>\n",
       "      <th>Year</th>\n",
       "      <th>Updated On</th>\n",
       "      <th>Latitude</th>\n",
       "      <th>Longitude</th>\n",
       "      <th>Location</th>\n",
       "    </tr>\n",
       "  </thead>\n",
       "  <tbody>\n",
       "    <tr>\n",
       "      <td>0</td>\n",
       "      <td>388</td>\n",
       "      <td>4785</td>\n",
       "      <td>HP610824</td>\n",
       "      <td>10/07/2008 12:39:00 PM</td>\n",
       "      <td>000XX E 75TH ST</td>\n",
       "      <td>0110</td>\n",
       "      <td>HOMICIDE</td>\n",
       "      <td>FIRST DEGREE MURDER</td>\n",
       "      <td>ALLEY</td>\n",
       "      <td>True</td>\n",
       "      <td>...</td>\n",
       "      <td>6.0</td>\n",
       "      <td>69.0</td>\n",
       "      <td>01A</td>\n",
       "      <td>1178207.0</td>\n",
       "      <td>1855308.0</td>\n",
       "      <td>2008</td>\n",
       "      <td>08/17/2015 03:03:40 PM</td>\n",
       "      <td>41.758276</td>\n",
       "      <td>-87.622451</td>\n",
       "      <td>(41.758275857, -87.622451031)</td>\n",
       "    </tr>\n",
       "    <tr>\n",
       "      <td>1</td>\n",
       "      <td>835</td>\n",
       "      <td>4786</td>\n",
       "      <td>HP616595</td>\n",
       "      <td>10/09/2008 03:30:00 AM</td>\n",
       "      <td>048XX W POLK ST</td>\n",
       "      <td>0110</td>\n",
       "      <td>HOMICIDE</td>\n",
       "      <td>FIRST DEGREE MURDER</td>\n",
       "      <td>STREET</td>\n",
       "      <td>True</td>\n",
       "      <td>...</td>\n",
       "      <td>24.0</td>\n",
       "      <td>25.0</td>\n",
       "      <td>01A</td>\n",
       "      <td>1144200.0</td>\n",
       "      <td>1895857.0</td>\n",
       "      <td>2008</td>\n",
       "      <td>08/17/2015 03:03:40 PM</td>\n",
       "      <td>41.870252</td>\n",
       "      <td>-87.746069</td>\n",
       "      <td>(41.87025207, -87.746069362)</td>\n",
       "    </tr>\n",
       "    <tr>\n",
       "      <td>2</td>\n",
       "      <td>1334</td>\n",
       "      <td>4787</td>\n",
       "      <td>HP616904</td>\n",
       "      <td>10/09/2008 08:35:00 AM</td>\n",
       "      <td>030XX W MANN DR</td>\n",
       "      <td>0110</td>\n",
       "      <td>HOMICIDE</td>\n",
       "      <td>FIRST DEGREE MURDER</td>\n",
       "      <td>PARK PROPERTY</td>\n",
       "      <td>False</td>\n",
       "      <td>...</td>\n",
       "      <td>18.0</td>\n",
       "      <td>66.0</td>\n",
       "      <td>01A</td>\n",
       "      <td>1157314.0</td>\n",
       "      <td>1859778.0</td>\n",
       "      <td>2008</td>\n",
       "      <td>08/17/2015 03:03:40 PM</td>\n",
       "      <td>41.770990</td>\n",
       "      <td>-87.698901</td>\n",
       "      <td>(41.770990476, -87.698901469)</td>\n",
       "    </tr>\n",
       "    <tr>\n",
       "      <td>3</td>\n",
       "      <td>1907</td>\n",
       "      <td>4788</td>\n",
       "      <td>HP618616</td>\n",
       "      <td>10/10/2008 02:33:00 AM</td>\n",
       "      <td>052XX W CHICAGO AVE</td>\n",
       "      <td>0110</td>\n",
       "      <td>HOMICIDE</td>\n",
       "      <td>FIRST DEGREE MURDER</td>\n",
       "      <td>RESTAURANT</td>\n",
       "      <td>False</td>\n",
       "      <td>...</td>\n",
       "      <td>37.0</td>\n",
       "      <td>25.0</td>\n",
       "      <td>01A</td>\n",
       "      <td>1141065.0</td>\n",
       "      <td>1904824.0</td>\n",
       "      <td>2008</td>\n",
       "      <td>08/17/2015 03:03:40 PM</td>\n",
       "      <td>41.894917</td>\n",
       "      <td>-87.757358</td>\n",
       "      <td>(41.894916924, -87.757358147)</td>\n",
       "    </tr>\n",
       "    <tr>\n",
       "      <td>4</td>\n",
       "      <td>2436</td>\n",
       "      <td>4789</td>\n",
       "      <td>HP619020</td>\n",
       "      <td>10/10/2008 12:50:00 PM</td>\n",
       "      <td>026XX S HOMAN AVE</td>\n",
       "      <td>0110</td>\n",
       "      <td>HOMICIDE</td>\n",
       "      <td>FIRST DEGREE MURDER</td>\n",
       "      <td>GARAGE</td>\n",
       "      <td>False</td>\n",
       "      <td>...</td>\n",
       "      <td>22.0</td>\n",
       "      <td>30.0</td>\n",
       "      <td>01A</td>\n",
       "      <td>1154123.0</td>\n",
       "      <td>1886297.0</td>\n",
       "      <td>2008</td>\n",
       "      <td>08/17/2015 03:03:40 PM</td>\n",
       "      <td>41.843826</td>\n",
       "      <td>-87.709893</td>\n",
       "      <td>(41.843826272, -87.709893465)</td>\n",
       "    </tr>\n",
       "  </tbody>\n",
       "</table>\n",
       "<p>5 rows × 23 columns</p>\n",
       "</div>"
      ],
      "text/plain": [
       "   Unnamed: 0    ID Case Number                    Date                Block  \\\n",
       "0         388  4785    HP610824  10/07/2008 12:39:00 PM      000XX E 75TH ST   \n",
       "1         835  4786    HP616595  10/09/2008 03:30:00 AM      048XX W POLK ST   \n",
       "2        1334  4787    HP616904  10/09/2008 08:35:00 AM      030XX W MANN DR   \n",
       "3        1907  4788    HP618616  10/10/2008 02:33:00 AM  052XX W CHICAGO AVE   \n",
       "4        2436  4789    HP619020  10/10/2008 12:50:00 PM    026XX S HOMAN AVE   \n",
       "\n",
       "   IUCR Primary Type          Description Location Description  Arrest  ...  \\\n",
       "0  0110     HOMICIDE  FIRST DEGREE MURDER                ALLEY    True  ...   \n",
       "1  0110     HOMICIDE  FIRST DEGREE MURDER               STREET    True  ...   \n",
       "2  0110     HOMICIDE  FIRST DEGREE MURDER        PARK PROPERTY   False  ...   \n",
       "3  0110     HOMICIDE  FIRST DEGREE MURDER           RESTAURANT   False  ...   \n",
       "4  0110     HOMICIDE  FIRST DEGREE MURDER               GARAGE   False  ...   \n",
       "\n",
       "   Ward  Community Area  FBI Code  X Coordinate  Y Coordinate  Year  \\\n",
       "0   6.0            69.0       01A     1178207.0     1855308.0  2008   \n",
       "1  24.0            25.0       01A     1144200.0     1895857.0  2008   \n",
       "2  18.0            66.0       01A     1157314.0     1859778.0  2008   \n",
       "3  37.0            25.0       01A     1141065.0     1904824.0  2008   \n",
       "4  22.0            30.0       01A     1154123.0     1886297.0  2008   \n",
       "\n",
       "               Updated On   Latitude  Longitude                       Location  \n",
       "0  08/17/2015 03:03:40 PM  41.758276 -87.622451  (41.758275857, -87.622451031)  \n",
       "1  08/17/2015 03:03:40 PM  41.870252 -87.746069   (41.87025207, -87.746069362)  \n",
       "2  08/17/2015 03:03:40 PM  41.770990 -87.698901  (41.770990476, -87.698901469)  \n",
       "3  08/17/2015 03:03:40 PM  41.894917 -87.757358  (41.894916924, -87.757358147)  \n",
       "4  08/17/2015 03:03:40 PM  41.843826 -87.709893  (41.843826272, -87.709893465)  \n",
       "\n",
       "[5 rows x 23 columns]"
      ]
     },
     "execution_count": 5,
     "metadata": {},
     "output_type": "execute_result"
    }
   ],
   "source": [
    "dataset2.head()"
   ]
  },
  {
   "cell_type": "code",
   "execution_count": 6,
   "metadata": {
    "colab": {
     "base_uri": "https://localhost:8080/",
     "height": 68
    },
    "colab_type": "code",
    "id": "N89NSarDZLy6",
    "outputId": "6d57bad1-005c-4b73-d464-d475ffa7d75b"
   },
   "outputs": [
    {
     "name": "stdout",
     "output_type": "stream",
     "text": [
      "1st dataset row and column:  (1872343, 23)\n",
      "2nd dataset row and column:  (2688710, 23)\n",
      "3rd dataset row and column:  (1456714, 23)\n"
     ]
    }
   ],
   "source": [
    "print('1st dataset row and column: ' , dataset1.shape)\n",
    "print('2nd dataset row and column: ' , dataset2.shape)\n",
    "print('3rd dataset row and column: ' , dataset3.shape)"
   ]
  },
  {
   "cell_type": "code",
   "execution_count": 7,
   "metadata": {
    "colab": {
     "base_uri": "https://localhost:8080/",
     "height": 34
    },
    "colab_type": "code",
    "id": "iCrjG3CrZLzB",
    "outputId": "3e1c358e-f45c-46ad-e28c-6c69fdc5c206"
   },
   "outputs": [
    {
     "data": {
      "text/plain": [
       "6017767"
      ]
     },
     "execution_count": 7,
     "metadata": {},
     "output_type": "execute_result"
    }
   ],
   "source": [
    "1872343 + 2688710 + 1456714"
   ]
  },
  {
   "cell_type": "markdown",
   "metadata": {
    "colab_type": "text",
    "id": "RIIfdNIuZLzH"
   },
   "source": [
    "It is a huge dataset.If we combine all of the dataset together then amount is 6 Million."
   ]
  },
  {
   "cell_type": "code",
   "execution_count": 8,
   "metadata": {
    "colab": {
     "base_uri": "https://localhost:8080/",
     "height": 425
    },
    "colab_type": "code",
    "id": "Ej9peRweZLzJ",
    "outputId": "293faafa-8476-4be2-f06e-511667f69c8b"
   },
   "outputs": [
    {
     "data": {
      "text/plain": [
       "Unnamed: 0                 0\n",
       "ID                         0\n",
       "Case Number                0\n",
       "Date                       0\n",
       "Block                      0\n",
       "IUCR                       0\n",
       "Primary Type               0\n",
       "Description                0\n",
       "Location Description      25\n",
       "Arrest                     0\n",
       "Domestic                   0\n",
       "Beat                       0\n",
       "District                   5\n",
       "Ward                      15\n",
       "Community Area           349\n",
       "FBI Code                   0\n",
       "X Coordinate            9154\n",
       "Y Coordinate            9154\n",
       "Year                       0\n",
       "Updated On                 0\n",
       "Latitude                9154\n",
       "Longitude               9154\n",
       "Location                9154\n",
       "dtype: int64"
      ]
     },
     "execution_count": 8,
     "metadata": {},
     "output_type": "execute_result"
    }
   ],
   "source": [
    "dataset1.isnull().sum()"
   ]
  },
  {
   "cell_type": "code",
   "execution_count": 9,
   "metadata": {
    "colab": {
     "base_uri": "https://localhost:8080/",
     "height": 425
    },
    "colab_type": "code",
    "id": "vDPhkso-ZLzR",
    "outputId": "6d0f20bf-2ef2-4351-a850-9413599f34cf"
   },
   "outputs": [
    {
     "data": {
      "text/plain": [
       "Unnamed: 0                  0\n",
       "ID                          0\n",
       "Case Number                 1\n",
       "Date                        0\n",
       "Block                       0\n",
       "IUCR                        0\n",
       "Primary Type                0\n",
       "Description                 0\n",
       "Location Description     1658\n",
       "Arrest                      0\n",
       "Domestic                    0\n",
       "Beat                        0\n",
       "District                    1\n",
       "Ward                       14\n",
       "Community Area             40\n",
       "FBI Code                    0\n",
       "X Coordinate            37083\n",
       "Y Coordinate            37083\n",
       "Year                        0\n",
       "Updated On                  0\n",
       "Latitude                37083\n",
       "Longitude               37083\n",
       "Location                37083\n",
       "dtype: int64"
      ]
     },
     "execution_count": 9,
     "metadata": {},
     "output_type": "execute_result"
    }
   ],
   "source": [
    "dataset3.isnull().sum()"
   ]
  },
  {
   "cell_type": "code",
   "execution_count": 10,
   "metadata": {
    "colab": {
     "base_uri": "https://localhost:8080/",
     "height": 425
    },
    "colab_type": "code",
    "id": "21BUbBANZLzX",
    "outputId": "4085b9a3-5073-446a-b011-5a112e60396c"
   },
   "outputs": [
    {
     "data": {
      "text/plain": [
       "Unnamed: 0                  0\n",
       "ID                          0\n",
       "Case Number                 6\n",
       "Date                        0\n",
       "Block                       0\n",
       "IUCR                        0\n",
       "Primary Type                0\n",
       "Description                 0\n",
       "Location Description      291\n",
       "Arrest                      0\n",
       "Domestic                    0\n",
       "Beat                        0\n",
       "District                   83\n",
       "Ward                       63\n",
       "Community Area           1455\n",
       "FBI Code                    0\n",
       "X Coordinate            28645\n",
       "Y Coordinate            28645\n",
       "Year                        0\n",
       "Updated On                  0\n",
       "Latitude                28645\n",
       "Longitude               28645\n",
       "Location                28645\n",
       "dtype: int64"
      ]
     },
     "execution_count": 10,
     "metadata": {},
     "output_type": "execute_result"
    }
   ],
   "source": [
    "dataset2.isnull().sum()"
   ]
  },
  {
   "cell_type": "markdown",
   "metadata": {
    "colab_type": "text",
    "id": "-kA_Pt9WZLzc"
   },
   "source": [
    "All the dataset have different in their missing columns and number."
   ]
  },
  {
   "cell_type": "code",
   "execution_count": 11,
   "metadata": {
    "colab": {
     "base_uri": "https://localhost:8080/",
     "height": 813
    },
    "colab_type": "code",
    "id": "gE-H_XFfZLzd",
    "outputId": "ba1ca81e-679a-42ee-ae34-6f496fc42af4"
   },
   "outputs": [
    {
     "data": {
      "text/html": [
       "<div>\n",
       "<style scoped>\n",
       "    .dataframe tbody tr th:only-of-type {\n",
       "        vertical-align: middle;\n",
       "    }\n",
       "\n",
       "    .dataframe tbody tr th {\n",
       "        vertical-align: top;\n",
       "    }\n",
       "\n",
       "    .dataframe thead th {\n",
       "        text-align: right;\n",
       "    }\n",
       "</style>\n",
       "<table border=\"1\" class=\"dataframe\">\n",
       "  <thead>\n",
       "    <tr style=\"text-align: right;\">\n",
       "      <th></th>\n",
       "      <th>0</th>\n",
       "      <th>1</th>\n",
       "      <th>2</th>\n",
       "      <th>3</th>\n",
       "      <th>4</th>\n",
       "    </tr>\n",
       "  </thead>\n",
       "  <tbody>\n",
       "    <tr>\n",
       "      <td>Unnamed: 0</td>\n",
       "      <td>0</td>\n",
       "      <td>1</td>\n",
       "      <td>2</td>\n",
       "      <td>4</td>\n",
       "      <td>5</td>\n",
       "    </tr>\n",
       "    <tr>\n",
       "      <td>ID</td>\n",
       "      <td>4673626</td>\n",
       "      <td>4673627</td>\n",
       "      <td>4673628</td>\n",
       "      <td>4673629</td>\n",
       "      <td>4673630</td>\n",
       "    </tr>\n",
       "    <tr>\n",
       "      <td>Case Number</td>\n",
       "      <td>HM274058</td>\n",
       "      <td>HM202199</td>\n",
       "      <td>HM113861</td>\n",
       "      <td>HM274049</td>\n",
       "      <td>HM187120</td>\n",
       "    </tr>\n",
       "    <tr>\n",
       "      <td>Date</td>\n",
       "      <td>04/02/2006 01:00:00 PM</td>\n",
       "      <td>02/26/2006 01:40:48 PM</td>\n",
       "      <td>01/08/2006 11:16:00 PM</td>\n",
       "      <td>04/05/2006 06:45:00 PM</td>\n",
       "      <td>02/17/2006 09:03:14 PM</td>\n",
       "    </tr>\n",
       "    <tr>\n",
       "      <td>Block</td>\n",
       "      <td>055XX N MANGO AVE</td>\n",
       "      <td>065XX S RHODES AVE</td>\n",
       "      <td>013XX E 69TH ST</td>\n",
       "      <td>061XX W NEWPORT AVE</td>\n",
       "      <td>037XX W 60TH ST</td>\n",
       "    </tr>\n",
       "    <tr>\n",
       "      <td>IUCR</td>\n",
       "      <td>2825</td>\n",
       "      <td>2017</td>\n",
       "      <td>051A</td>\n",
       "      <td>0460</td>\n",
       "      <td>1811</td>\n",
       "    </tr>\n",
       "    <tr>\n",
       "      <td>Primary Type</td>\n",
       "      <td>OTHER OFFENSE</td>\n",
       "      <td>NARCOTICS</td>\n",
       "      <td>ASSAULT</td>\n",
       "      <td>BATTERY</td>\n",
       "      <td>NARCOTICS</td>\n",
       "    </tr>\n",
       "    <tr>\n",
       "      <td>Description</td>\n",
       "      <td>HARASSMENT BY TELEPHONE</td>\n",
       "      <td>MANU/DELIVER:CRACK</td>\n",
       "      <td>AGGRAVATED: HANDGUN</td>\n",
       "      <td>SIMPLE</td>\n",
       "      <td>POSS: CANNABIS 30GMS OR LESS</td>\n",
       "    </tr>\n",
       "    <tr>\n",
       "      <td>Location Description</td>\n",
       "      <td>RESIDENCE</td>\n",
       "      <td>SIDEWALK</td>\n",
       "      <td>OTHER</td>\n",
       "      <td>RESIDENCE</td>\n",
       "      <td>ALLEY</td>\n",
       "    </tr>\n",
       "    <tr>\n",
       "      <td>Arrest</td>\n",
       "      <td>False</td>\n",
       "      <td>True</td>\n",
       "      <td>False</td>\n",
       "      <td>False</td>\n",
       "      <td>True</td>\n",
       "    </tr>\n",
       "    <tr>\n",
       "      <td>Domestic</td>\n",
       "      <td>False</td>\n",
       "      <td>False</td>\n",
       "      <td>False</td>\n",
       "      <td>False</td>\n",
       "      <td>False</td>\n",
       "    </tr>\n",
       "    <tr>\n",
       "      <td>Beat</td>\n",
       "      <td>1622</td>\n",
       "      <td>321</td>\n",
       "      <td>321</td>\n",
       "      <td>1633</td>\n",
       "      <td>822</td>\n",
       "    </tr>\n",
       "    <tr>\n",
       "      <td>District</td>\n",
       "      <td>16</td>\n",
       "      <td>3</td>\n",
       "      <td>3</td>\n",
       "      <td>16</td>\n",
       "      <td>8</td>\n",
       "    </tr>\n",
       "    <tr>\n",
       "      <td>Ward</td>\n",
       "      <td>45</td>\n",
       "      <td>20</td>\n",
       "      <td>5</td>\n",
       "      <td>38</td>\n",
       "      <td>13</td>\n",
       "    </tr>\n",
       "    <tr>\n",
       "      <td>Community Area</td>\n",
       "      <td>11</td>\n",
       "      <td>42</td>\n",
       "      <td>69</td>\n",
       "      <td>17</td>\n",
       "      <td>65</td>\n",
       "    </tr>\n",
       "    <tr>\n",
       "      <td>FBI Code</td>\n",
       "      <td>26</td>\n",
       "      <td>18</td>\n",
       "      <td>04A</td>\n",
       "      <td>08B</td>\n",
       "      <td>18</td>\n",
       "    </tr>\n",
       "    <tr>\n",
       "      <td>X Coordinate</td>\n",
       "      <td>1.13687e+06</td>\n",
       "      <td>1.18103e+06</td>\n",
       "      <td>1.18602e+06</td>\n",
       "      <td>1.13477e+06</td>\n",
       "      <td>1.15241e+06</td>\n",
       "    </tr>\n",
       "    <tr>\n",
       "      <td>Y Coordinate</td>\n",
       "      <td>1.9365e+06</td>\n",
       "      <td>1.86169e+06</td>\n",
       "      <td>1.85961e+06</td>\n",
       "      <td>1.9223e+06</td>\n",
       "      <td>1.86456e+06</td>\n",
       "    </tr>\n",
       "    <tr>\n",
       "      <td>Year</td>\n",
       "      <td>2006</td>\n",
       "      <td>2006</td>\n",
       "      <td>2006</td>\n",
       "      <td>2006</td>\n",
       "      <td>2006</td>\n",
       "    </tr>\n",
       "    <tr>\n",
       "      <td>Updated On</td>\n",
       "      <td>04/15/2016 08:55:02 AM</td>\n",
       "      <td>04/15/2016 08:55:02 AM</td>\n",
       "      <td>04/15/2016 08:55:02 AM</td>\n",
       "      <td>04/15/2016 08:55:02 AM</td>\n",
       "      <td>04/15/2016 08:55:02 AM</td>\n",
       "    </tr>\n",
       "    <tr>\n",
       "      <td>Latitude</td>\n",
       "      <td>41.9819</td>\n",
       "      <td>41.7757</td>\n",
       "      <td>41.7699</td>\n",
       "      <td>41.943</td>\n",
       "      <td>41.7842</td>\n",
       "    </tr>\n",
       "    <tr>\n",
       "      <td>Longitude</td>\n",
       "      <td>-87.772</td>\n",
       "      <td>-87.6119</td>\n",
       "      <td>-87.5937</td>\n",
       "      <td>-87.7801</td>\n",
       "      <td>-87.7167</td>\n",
       "    </tr>\n",
       "    <tr>\n",
       "      <td>Location</td>\n",
       "      <td>(41.981912692, -87.771996382)</td>\n",
       "      <td>(41.775732538, -87.611919814)</td>\n",
       "      <td>(41.769897392, -87.593670899)</td>\n",
       "      <td>(41.942984005, -87.780056951)</td>\n",
       "      <td>(41.784210853, -87.71674491)</td>\n",
       "    </tr>\n",
       "  </tbody>\n",
       "</table>\n",
       "</div>"
      ],
      "text/plain": [
       "                                                  0  \\\n",
       "Unnamed: 0                                        0   \n",
       "ID                                          4673626   \n",
       "Case Number                                HM274058   \n",
       "Date                         04/02/2006 01:00:00 PM   \n",
       "Block                             055XX N MANGO AVE   \n",
       "IUCR                                           2825   \n",
       "Primary Type                          OTHER OFFENSE   \n",
       "Description                 HARASSMENT BY TELEPHONE   \n",
       "Location Description                      RESIDENCE   \n",
       "Arrest                                        False   \n",
       "Domestic                                      False   \n",
       "Beat                                           1622   \n",
       "District                                         16   \n",
       "Ward                                             45   \n",
       "Community Area                                   11   \n",
       "FBI Code                                         26   \n",
       "X Coordinate                            1.13687e+06   \n",
       "Y Coordinate                             1.9365e+06   \n",
       "Year                                           2006   \n",
       "Updated On                   04/15/2016 08:55:02 AM   \n",
       "Latitude                                    41.9819   \n",
       "Longitude                                   -87.772   \n",
       "Location              (41.981912692, -87.771996382)   \n",
       "\n",
       "                                                  1  \\\n",
       "Unnamed: 0                                        1   \n",
       "ID                                          4673627   \n",
       "Case Number                                HM202199   \n",
       "Date                         02/26/2006 01:40:48 PM   \n",
       "Block                            065XX S RHODES AVE   \n",
       "IUCR                                           2017   \n",
       "Primary Type                              NARCOTICS   \n",
       "Description                      MANU/DELIVER:CRACK   \n",
       "Location Description                       SIDEWALK   \n",
       "Arrest                                         True   \n",
       "Domestic                                      False   \n",
       "Beat                                            321   \n",
       "District                                          3   \n",
       "Ward                                             20   \n",
       "Community Area                                   42   \n",
       "FBI Code                                         18   \n",
       "X Coordinate                            1.18103e+06   \n",
       "Y Coordinate                            1.86169e+06   \n",
       "Year                                           2006   \n",
       "Updated On                   04/15/2016 08:55:02 AM   \n",
       "Latitude                                    41.7757   \n",
       "Longitude                                  -87.6119   \n",
       "Location              (41.775732538, -87.611919814)   \n",
       "\n",
       "                                                  2  \\\n",
       "Unnamed: 0                                        2   \n",
       "ID                                          4673628   \n",
       "Case Number                                HM113861   \n",
       "Date                         01/08/2006 11:16:00 PM   \n",
       "Block                               013XX E 69TH ST   \n",
       "IUCR                                           051A   \n",
       "Primary Type                                ASSAULT   \n",
       "Description                     AGGRAVATED: HANDGUN   \n",
       "Location Description                          OTHER   \n",
       "Arrest                                        False   \n",
       "Domestic                                      False   \n",
       "Beat                                            321   \n",
       "District                                          3   \n",
       "Ward                                              5   \n",
       "Community Area                                   69   \n",
       "FBI Code                                        04A   \n",
       "X Coordinate                            1.18602e+06   \n",
       "Y Coordinate                            1.85961e+06   \n",
       "Year                                           2006   \n",
       "Updated On                   04/15/2016 08:55:02 AM   \n",
       "Latitude                                    41.7699   \n",
       "Longitude                                  -87.5937   \n",
       "Location              (41.769897392, -87.593670899)   \n",
       "\n",
       "                                                  3  \\\n",
       "Unnamed: 0                                        4   \n",
       "ID                                          4673629   \n",
       "Case Number                                HM274049   \n",
       "Date                         04/05/2006 06:45:00 PM   \n",
       "Block                           061XX W NEWPORT AVE   \n",
       "IUCR                                           0460   \n",
       "Primary Type                                BATTERY   \n",
       "Description                                  SIMPLE   \n",
       "Location Description                      RESIDENCE   \n",
       "Arrest                                        False   \n",
       "Domestic                                      False   \n",
       "Beat                                           1633   \n",
       "District                                         16   \n",
       "Ward                                             38   \n",
       "Community Area                                   17   \n",
       "FBI Code                                        08B   \n",
       "X Coordinate                            1.13477e+06   \n",
       "Y Coordinate                             1.9223e+06   \n",
       "Year                                           2006   \n",
       "Updated On                   04/15/2016 08:55:02 AM   \n",
       "Latitude                                     41.943   \n",
       "Longitude                                  -87.7801   \n",
       "Location              (41.942984005, -87.780056951)   \n",
       "\n",
       "                                                 4  \n",
       "Unnamed: 0                                       5  \n",
       "ID                                         4673630  \n",
       "Case Number                               HM187120  \n",
       "Date                        02/17/2006 09:03:14 PM  \n",
       "Block                              037XX W 60TH ST  \n",
       "IUCR                                          1811  \n",
       "Primary Type                             NARCOTICS  \n",
       "Description           POSS: CANNABIS 30GMS OR LESS  \n",
       "Location Description                         ALLEY  \n",
       "Arrest                                        True  \n",
       "Domestic                                     False  \n",
       "Beat                                           822  \n",
       "District                                         8  \n",
       "Ward                                            13  \n",
       "Community Area                                  65  \n",
       "FBI Code                                        18  \n",
       "X Coordinate                           1.15241e+06  \n",
       "Y Coordinate                           1.86456e+06  \n",
       "Year                                          2006  \n",
       "Updated On                  04/15/2016 08:55:02 AM  \n",
       "Latitude                                   41.7842  \n",
       "Longitude                                 -87.7167  \n",
       "Location              (41.784210853, -87.71674491)  "
      ]
     },
     "execution_count": 11,
     "metadata": {},
     "output_type": "execute_result"
    }
   ],
   "source": [
    "dataset1.head().transpose()"
   ]
  },
  {
   "cell_type": "code",
   "execution_count": 4,
   "metadata": {
    "colab": {},
    "colab_type": "code",
    "id": "OWF9GEJmZLzk"
   },
   "outputs": [],
   "source": [
    "dataset = pd.concat([dataset1 , dataset2 , dataset3])"
   ]
  },
  {
   "cell_type": "code",
   "execution_count": 12,
   "metadata": {
    "colab": {
     "base_uri": "https://localhost:8080/",
     "height": 425
    },
    "colab_type": "code",
    "id": "zpuQHviPde2O",
    "outputId": "8a1f3679-4933-4d17-9c05-372259677340"
   },
   "outputs": [
    {
     "data": {
      "text/plain": [
       "Unnamed: 0                  0\n",
       "ID                          0\n",
       "Case Number                 7\n",
       "Date                        0\n",
       "Block                       0\n",
       "IUCR                        0\n",
       "Primary Type                0\n",
       "Description                 0\n",
       "Location Description     1974\n",
       "Arrest                      0\n",
       "Domestic                    0\n",
       "Beat                        0\n",
       "District                   89\n",
       "Ward                       92\n",
       "Community Area           1844\n",
       "FBI Code                    0\n",
       "X Coordinate            74882\n",
       "Y Coordinate            74882\n",
       "Year                        0\n",
       "Updated On                  0\n",
       "Latitude                74882\n",
       "Longitude               74882\n",
       "Location                74882\n",
       "dtype: int64"
      ]
     },
     "execution_count": 12,
     "metadata": {},
     "output_type": "execute_result"
    }
   ],
   "source": [
    "dataset.isnull().sum()"
   ]
  },
  {
   "cell_type": "code",
   "execution_count": 13,
   "metadata": {
    "colab": {
     "base_uri": "https://localhost:8080/",
     "height": 34
    },
    "colab_type": "code",
    "id": "qoDBZ8Acde8N",
    "outputId": "52407677-1ece-4a9c-ff81-802092f27758"
   },
   "outputs": [
    {
     "data": {
      "text/plain": [
       "(6017767, 23)"
      ]
     },
     "execution_count": 13,
     "metadata": {},
     "output_type": "execute_result"
    }
   ],
   "source": [
    "dataset.shape"
   ]
  },
  {
   "cell_type": "code",
   "execution_count": 14,
   "metadata": {
    "colab": {
     "base_uri": "https://localhost:8080/",
     "height": 1000
    },
    "colab_type": "code",
    "id": "fNoCgjoIdfDc",
    "outputId": "e7085867-7a01-4a1e-a543-2581c5247476"
   },
   "outputs": [
    {
     "data": {
      "text/html": [
       "<div>\n",
       "<style scoped>\n",
       "    .dataframe tbody tr th:only-of-type {\n",
       "        vertical-align: middle;\n",
       "    }\n",
       "\n",
       "    .dataframe tbody tr th {\n",
       "        vertical-align: top;\n",
       "    }\n",
       "\n",
       "    .dataframe thead th {\n",
       "        text-align: right;\n",
       "    }\n",
       "</style>\n",
       "<table border=\"1\" class=\"dataframe\">\n",
       "  <thead>\n",
       "    <tr style=\"text-align: right;\">\n",
       "      <th></th>\n",
       "      <th>Unnamed: 0</th>\n",
       "      <th>ID</th>\n",
       "      <th>Case Number</th>\n",
       "      <th>Date</th>\n",
       "      <th>Block</th>\n",
       "      <th>IUCR</th>\n",
       "      <th>Primary Type</th>\n",
       "      <th>Description</th>\n",
       "      <th>Location Description</th>\n",
       "      <th>Arrest</th>\n",
       "      <th>...</th>\n",
       "      <th>Ward</th>\n",
       "      <th>Community Area</th>\n",
       "      <th>FBI Code</th>\n",
       "      <th>X Coordinate</th>\n",
       "      <th>Y Coordinate</th>\n",
       "      <th>Year</th>\n",
       "      <th>Updated On</th>\n",
       "      <th>Latitude</th>\n",
       "      <th>Longitude</th>\n",
       "      <th>Location</th>\n",
       "    </tr>\n",
       "  </thead>\n",
       "  <tbody>\n",
       "    <tr>\n",
       "      <td>0</td>\n",
       "      <td>0</td>\n",
       "      <td>4673626</td>\n",
       "      <td>HM274058</td>\n",
       "      <td>04/02/2006 01:00:00 PM</td>\n",
       "      <td>055XX N MANGO AVE</td>\n",
       "      <td>2825</td>\n",
       "      <td>OTHER OFFENSE</td>\n",
       "      <td>HARASSMENT BY TELEPHONE</td>\n",
       "      <td>RESIDENCE</td>\n",
       "      <td>False</td>\n",
       "      <td>...</td>\n",
       "      <td>45.0</td>\n",
       "      <td>11.0</td>\n",
       "      <td>26</td>\n",
       "      <td>1136872.0</td>\n",
       "      <td>1936499.0</td>\n",
       "      <td>2006</td>\n",
       "      <td>04/15/2016 08:55:02 AM</td>\n",
       "      <td>41.981913</td>\n",
       "      <td>-87.771996</td>\n",
       "      <td>(41.981912692, -87.771996382)</td>\n",
       "    </tr>\n",
       "    <tr>\n",
       "      <td>1</td>\n",
       "      <td>1</td>\n",
       "      <td>4673627</td>\n",
       "      <td>HM202199</td>\n",
       "      <td>02/26/2006 01:40:48 PM</td>\n",
       "      <td>065XX S RHODES AVE</td>\n",
       "      <td>2017</td>\n",
       "      <td>NARCOTICS</td>\n",
       "      <td>MANU/DELIVER:CRACK</td>\n",
       "      <td>SIDEWALK</td>\n",
       "      <td>True</td>\n",
       "      <td>...</td>\n",
       "      <td>20.0</td>\n",
       "      <td>42.0</td>\n",
       "      <td>18</td>\n",
       "      <td>1181027.0</td>\n",
       "      <td>1861693.0</td>\n",
       "      <td>2006</td>\n",
       "      <td>04/15/2016 08:55:02 AM</td>\n",
       "      <td>41.775733</td>\n",
       "      <td>-87.611920</td>\n",
       "      <td>(41.775732538, -87.611919814)</td>\n",
       "    </tr>\n",
       "    <tr>\n",
       "      <td>2</td>\n",
       "      <td>2</td>\n",
       "      <td>4673628</td>\n",
       "      <td>HM113861</td>\n",
       "      <td>01/08/2006 11:16:00 PM</td>\n",
       "      <td>013XX E 69TH ST</td>\n",
       "      <td>051A</td>\n",
       "      <td>ASSAULT</td>\n",
       "      <td>AGGRAVATED: HANDGUN</td>\n",
       "      <td>OTHER</td>\n",
       "      <td>False</td>\n",
       "      <td>...</td>\n",
       "      <td>5.0</td>\n",
       "      <td>69.0</td>\n",
       "      <td>04A</td>\n",
       "      <td>1186023.0</td>\n",
       "      <td>1859609.0</td>\n",
       "      <td>2006</td>\n",
       "      <td>04/15/2016 08:55:02 AM</td>\n",
       "      <td>41.769897</td>\n",
       "      <td>-87.593671</td>\n",
       "      <td>(41.769897392, -87.593670899)</td>\n",
       "    </tr>\n",
       "    <tr>\n",
       "      <td>3</td>\n",
       "      <td>4</td>\n",
       "      <td>4673629</td>\n",
       "      <td>HM274049</td>\n",
       "      <td>04/05/2006 06:45:00 PM</td>\n",
       "      <td>061XX W NEWPORT AVE</td>\n",
       "      <td>0460</td>\n",
       "      <td>BATTERY</td>\n",
       "      <td>SIMPLE</td>\n",
       "      <td>RESIDENCE</td>\n",
       "      <td>False</td>\n",
       "      <td>...</td>\n",
       "      <td>38.0</td>\n",
       "      <td>17.0</td>\n",
       "      <td>08B</td>\n",
       "      <td>1134772.0</td>\n",
       "      <td>1922299.0</td>\n",
       "      <td>2006</td>\n",
       "      <td>04/15/2016 08:55:02 AM</td>\n",
       "      <td>41.942984</td>\n",
       "      <td>-87.780057</td>\n",
       "      <td>(41.942984005, -87.780056951)</td>\n",
       "    </tr>\n",
       "    <tr>\n",
       "      <td>4</td>\n",
       "      <td>5</td>\n",
       "      <td>4673630</td>\n",
       "      <td>HM187120</td>\n",
       "      <td>02/17/2006 09:03:14 PM</td>\n",
       "      <td>037XX W 60TH ST</td>\n",
       "      <td>1811</td>\n",
       "      <td>NARCOTICS</td>\n",
       "      <td>POSS: CANNABIS 30GMS OR LESS</td>\n",
       "      <td>ALLEY</td>\n",
       "      <td>True</td>\n",
       "      <td>...</td>\n",
       "      <td>13.0</td>\n",
       "      <td>65.0</td>\n",
       "      <td>18</td>\n",
       "      <td>1152412.0</td>\n",
       "      <td>1864560.0</td>\n",
       "      <td>2006</td>\n",
       "      <td>04/15/2016 08:55:02 AM</td>\n",
       "      <td>41.784211</td>\n",
       "      <td>-87.716745</td>\n",
       "      <td>(41.784210853, -87.71674491)</td>\n",
       "    </tr>\n",
       "    <tr>\n",
       "      <td>5</td>\n",
       "      <td>6</td>\n",
       "      <td>4673631</td>\n",
       "      <td>HM263167</td>\n",
       "      <td>03/30/2006 10:30:00 PM</td>\n",
       "      <td>014XX W 73RD PL</td>\n",
       "      <td>0560</td>\n",
       "      <td>ASSAULT</td>\n",
       "      <td>SIMPLE</td>\n",
       "      <td>APARTMENT</td>\n",
       "      <td>True</td>\n",
       "      <td>...</td>\n",
       "      <td>17.0</td>\n",
       "      <td>67.0</td>\n",
       "      <td>08A</td>\n",
       "      <td>1167688.0</td>\n",
       "      <td>1855998.0</td>\n",
       "      <td>2006</td>\n",
       "      <td>04/15/2016 08:55:02 AM</td>\n",
       "      <td>41.760401</td>\n",
       "      <td>-87.660982</td>\n",
       "      <td>(41.760401372, -87.660982392)</td>\n",
       "    </tr>\n",
       "    <tr>\n",
       "      <td>6</td>\n",
       "      <td>7</td>\n",
       "      <td>4673632</td>\n",
       "      <td>HM273234</td>\n",
       "      <td>04/05/2006 12:10:00 PM</td>\n",
       "      <td>050XX N LARAMIE AVE</td>\n",
       "      <td>0460</td>\n",
       "      <td>BATTERY</td>\n",
       "      <td>SIMPLE</td>\n",
       "      <td>SCHOOL, PUBLIC, BUILDING</td>\n",
       "      <td>True</td>\n",
       "      <td>...</td>\n",
       "      <td>45.0</td>\n",
       "      <td>11.0</td>\n",
       "      <td>08B</td>\n",
       "      <td>1140791.0</td>\n",
       "      <td>1932993.0</td>\n",
       "      <td>2006</td>\n",
       "      <td>04/15/2016 08:55:02 AM</td>\n",
       "      <td>41.972221</td>\n",
       "      <td>-87.757670</td>\n",
       "      <td>(41.972220564, -87.75766982)</td>\n",
       "    </tr>\n",
       "    <tr>\n",
       "      <td>7</td>\n",
       "      <td>8</td>\n",
       "      <td>4673633</td>\n",
       "      <td>HM275105</td>\n",
       "      <td>04/05/2006 03:00:00 PM</td>\n",
       "      <td>067XX S ROCKWELL ST</td>\n",
       "      <td>0820</td>\n",
       "      <td>THEFT</td>\n",
       "      <td>$500 AND UNDER</td>\n",
       "      <td>STREET</td>\n",
       "      <td>False</td>\n",
       "      <td>...</td>\n",
       "      <td>15.0</td>\n",
       "      <td>66.0</td>\n",
       "      <td>06</td>\n",
       "      <td>1160205.0</td>\n",
       "      <td>1859776.0</td>\n",
       "      <td>2006</td>\n",
       "      <td>04/15/2016 08:55:02 AM</td>\n",
       "      <td>41.770926</td>\n",
       "      <td>-87.688304</td>\n",
       "      <td>(41.770925978, -87.688304107)</td>\n",
       "    </tr>\n",
       "    <tr>\n",
       "      <td>8</td>\n",
       "      <td>9</td>\n",
       "      <td>4673634</td>\n",
       "      <td>HM275063</td>\n",
       "      <td>04/05/2006 09:30:00 PM</td>\n",
       "      <td>019XX W CHICAGO AVE</td>\n",
       "      <td>0560</td>\n",
       "      <td>ASSAULT</td>\n",
       "      <td>SIMPLE</td>\n",
       "      <td>PARKING LOT/GARAGE(NON.RESID.)</td>\n",
       "      <td>False</td>\n",
       "      <td>...</td>\n",
       "      <td>32.0</td>\n",
       "      <td>24.0</td>\n",
       "      <td>08A</td>\n",
       "      <td>1163122.0</td>\n",
       "      <td>1905349.0</td>\n",
       "      <td>2006</td>\n",
       "      <td>04/15/2016 08:55:02 AM</td>\n",
       "      <td>41.895923</td>\n",
       "      <td>-87.676334</td>\n",
       "      <td>(41.895922672, -87.676333733)</td>\n",
       "    </tr>\n",
       "    <tr>\n",
       "      <td>9</td>\n",
       "      <td>10</td>\n",
       "      <td>4673635</td>\n",
       "      <td>HM268513</td>\n",
       "      <td>04/03/2006 03:00:00 AM</td>\n",
       "      <td>063XX S EBERHART AVE</td>\n",
       "      <td>0486</td>\n",
       "      <td>BATTERY</td>\n",
       "      <td>DOMESTIC BATTERY SIMPLE</td>\n",
       "      <td>SIDEWALK</td>\n",
       "      <td>False</td>\n",
       "      <td>...</td>\n",
       "      <td>20.0</td>\n",
       "      <td>42.0</td>\n",
       "      <td>08B</td>\n",
       "      <td>1180669.0</td>\n",
       "      <td>1863047.0</td>\n",
       "      <td>2006</td>\n",
       "      <td>04/15/2016 08:55:02 AM</td>\n",
       "      <td>41.779456</td>\n",
       "      <td>-87.613191</td>\n",
       "      <td>(41.77945628, -87.613190628)</td>\n",
       "    </tr>\n",
       "    <tr>\n",
       "      <td>10</td>\n",
       "      <td>11</td>\n",
       "      <td>4673637</td>\n",
       "      <td>HM275073</td>\n",
       "      <td>04/06/2006 11:15:00 AM</td>\n",
       "      <td>0000X N LA SALLE ST</td>\n",
       "      <td>0810</td>\n",
       "      <td>THEFT</td>\n",
       "      <td>OVER $500</td>\n",
       "      <td>STREET</td>\n",
       "      <td>False</td>\n",
       "      <td>...</td>\n",
       "      <td>42.0</td>\n",
       "      <td>32.0</td>\n",
       "      <td>06</td>\n",
       "      <td>1175135.0</td>\n",
       "      <td>1900412.0</td>\n",
       "      <td>2006</td>\n",
       "      <td>04/15/2016 08:55:02 AM</td>\n",
       "      <td>41.882114</td>\n",
       "      <td>-87.632361</td>\n",
       "      <td>(41.882114362, -87.632361012)</td>\n",
       "    </tr>\n",
       "    <tr>\n",
       "      <td>11</td>\n",
       "      <td>12</td>\n",
       "      <td>4673639</td>\n",
       "      <td>HM272124</td>\n",
       "      <td>04/04/2006 08:15:00 PM</td>\n",
       "      <td>029XX S FEDERAL ST</td>\n",
       "      <td>1350</td>\n",
       "      <td>CRIMINAL TRESPASS</td>\n",
       "      <td>TO STATE SUP LAND</td>\n",
       "      <td>CHA HALLWAY/STAIRWELL/ELEVATOR</td>\n",
       "      <td>True</td>\n",
       "      <td>...</td>\n",
       "      <td>3.0</td>\n",
       "      <td>35.0</td>\n",
       "      <td>26</td>\n",
       "      <td>1176025.0</td>\n",
       "      <td>1885766.0</td>\n",
       "      <td>2006</td>\n",
       "      <td>04/15/2016 08:55:02 AM</td>\n",
       "      <td>41.841905</td>\n",
       "      <td>-87.629534</td>\n",
       "      <td>(41.841904764, -87.629533842)</td>\n",
       "    </tr>\n",
       "    <tr>\n",
       "      <td>12</td>\n",
       "      <td>13</td>\n",
       "      <td>4673640</td>\n",
       "      <td>HM275082</td>\n",
       "      <td>04/06/2006 11:30:00 AM</td>\n",
       "      <td>017XX E 86TH PL</td>\n",
       "      <td>0935</td>\n",
       "      <td>MOTOR VEHICLE THEFT</td>\n",
       "      <td>THEFT/RECOVERY: TRUCK,BUS,MHOME</td>\n",
       "      <td>STREET</td>\n",
       "      <td>False</td>\n",
       "      <td>...</td>\n",
       "      <td>8.0</td>\n",
       "      <td>45.0</td>\n",
       "      <td>07</td>\n",
       "      <td>1189375.0</td>\n",
       "      <td>1847970.0</td>\n",
       "      <td>2006</td>\n",
       "      <td>04/15/2016 08:55:02 AM</td>\n",
       "      <td>41.737879</td>\n",
       "      <td>-87.581757</td>\n",
       "      <td>(41.737879171, -87.581756795)</td>\n",
       "    </tr>\n",
       "    <tr>\n",
       "      <td>13</td>\n",
       "      <td>14</td>\n",
       "      <td>4673642</td>\n",
       "      <td>HM202299</td>\n",
       "      <td>02/26/2006 02:47:21 PM</td>\n",
       "      <td>002XX S LEAMINGTON AVE</td>\n",
       "      <td>1811</td>\n",
       "      <td>NARCOTICS</td>\n",
       "      <td>POSS: CANNABIS 30GMS OR LESS</td>\n",
       "      <td>SIDEWALK</td>\n",
       "      <td>True</td>\n",
       "      <td>...</td>\n",
       "      <td>28.0</td>\n",
       "      <td>25.0</td>\n",
       "      <td>18</td>\n",
       "      <td>1142168.0</td>\n",
       "      <td>1898610.0</td>\n",
       "      <td>2006</td>\n",
       "      <td>04/15/2016 08:55:02 AM</td>\n",
       "      <td>41.877845</td>\n",
       "      <td>-87.753461</td>\n",
       "      <td>(41.87784456, -87.753461293)</td>\n",
       "    </tr>\n",
       "    <tr>\n",
       "      <td>14</td>\n",
       "      <td>15</td>\n",
       "      <td>4673643</td>\n",
       "      <td>HM270077</td>\n",
       "      <td>04/03/2006 08:09:00 PM</td>\n",
       "      <td>073XX S WOODLAWN AVE</td>\n",
       "      <td>0420</td>\n",
       "      <td>BATTERY</td>\n",
       "      <td>AGGRAVATED:KNIFE/CUTTING INSTR</td>\n",
       "      <td>SIDEWALK</td>\n",
       "      <td>False</td>\n",
       "      <td>...</td>\n",
       "      <td>5.0</td>\n",
       "      <td>69.0</td>\n",
       "      <td>04B</td>\n",
       "      <td>1185483.0</td>\n",
       "      <td>1856655.0</td>\n",
       "      <td>2006</td>\n",
       "      <td>04/15/2016 08:55:02 AM</td>\n",
       "      <td>41.761804</td>\n",
       "      <td>-87.595743</td>\n",
       "      <td>(41.761804069, -87.595743133)</td>\n",
       "    </tr>\n",
       "  </tbody>\n",
       "</table>\n",
       "<p>15 rows × 23 columns</p>\n",
       "</div>"
      ],
      "text/plain": [
       "    Unnamed: 0       ID Case Number                    Date  \\\n",
       "0            0  4673626    HM274058  04/02/2006 01:00:00 PM   \n",
       "1            1  4673627    HM202199  02/26/2006 01:40:48 PM   \n",
       "2            2  4673628    HM113861  01/08/2006 11:16:00 PM   \n",
       "3            4  4673629    HM274049  04/05/2006 06:45:00 PM   \n",
       "4            5  4673630    HM187120  02/17/2006 09:03:14 PM   \n",
       "5            6  4673631    HM263167  03/30/2006 10:30:00 PM   \n",
       "6            7  4673632    HM273234  04/05/2006 12:10:00 PM   \n",
       "7            8  4673633    HM275105  04/05/2006 03:00:00 PM   \n",
       "8            9  4673634    HM275063  04/05/2006 09:30:00 PM   \n",
       "9           10  4673635    HM268513  04/03/2006 03:00:00 AM   \n",
       "10          11  4673637    HM275073  04/06/2006 11:15:00 AM   \n",
       "11          12  4673639    HM272124  04/04/2006 08:15:00 PM   \n",
       "12          13  4673640    HM275082  04/06/2006 11:30:00 AM   \n",
       "13          14  4673642    HM202299  02/26/2006 02:47:21 PM   \n",
       "14          15  4673643    HM270077  04/03/2006 08:09:00 PM   \n",
       "\n",
       "                     Block  IUCR         Primary Type  \\\n",
       "0        055XX N MANGO AVE  2825        OTHER OFFENSE   \n",
       "1       065XX S RHODES AVE  2017            NARCOTICS   \n",
       "2          013XX E 69TH ST  051A              ASSAULT   \n",
       "3      061XX W NEWPORT AVE  0460              BATTERY   \n",
       "4          037XX W 60TH ST  1811            NARCOTICS   \n",
       "5          014XX W 73RD PL  0560              ASSAULT   \n",
       "6      050XX N LARAMIE AVE  0460              BATTERY   \n",
       "7      067XX S ROCKWELL ST  0820                THEFT   \n",
       "8      019XX W CHICAGO AVE  0560              ASSAULT   \n",
       "9     063XX S EBERHART AVE  0486              BATTERY   \n",
       "10     0000X N LA SALLE ST  0810                THEFT   \n",
       "11      029XX S FEDERAL ST  1350    CRIMINAL TRESPASS   \n",
       "12         017XX E 86TH PL  0935  MOTOR VEHICLE THEFT   \n",
       "13  002XX S LEAMINGTON AVE  1811            NARCOTICS   \n",
       "14    073XX S WOODLAWN AVE  0420              BATTERY   \n",
       "\n",
       "                        Description            Location Description  Arrest  \\\n",
       "0           HARASSMENT BY TELEPHONE                       RESIDENCE   False   \n",
       "1                MANU/DELIVER:CRACK                        SIDEWALK    True   \n",
       "2               AGGRAVATED: HANDGUN                           OTHER   False   \n",
       "3                            SIMPLE                       RESIDENCE   False   \n",
       "4      POSS: CANNABIS 30GMS OR LESS                           ALLEY    True   \n",
       "5                            SIMPLE                       APARTMENT    True   \n",
       "6                            SIMPLE        SCHOOL, PUBLIC, BUILDING    True   \n",
       "7                    $500 AND UNDER                          STREET   False   \n",
       "8                            SIMPLE  PARKING LOT/GARAGE(NON.RESID.)   False   \n",
       "9           DOMESTIC BATTERY SIMPLE                        SIDEWALK   False   \n",
       "10                        OVER $500                          STREET   False   \n",
       "11                TO STATE SUP LAND  CHA HALLWAY/STAIRWELL/ELEVATOR    True   \n",
       "12  THEFT/RECOVERY: TRUCK,BUS,MHOME                          STREET   False   \n",
       "13     POSS: CANNABIS 30GMS OR LESS                        SIDEWALK    True   \n",
       "14   AGGRAVATED:KNIFE/CUTTING INSTR                        SIDEWALK   False   \n",
       "\n",
       "    ...  Ward  Community Area  FBI Code  X Coordinate  Y Coordinate  Year  \\\n",
       "0   ...  45.0            11.0        26     1136872.0     1936499.0  2006   \n",
       "1   ...  20.0            42.0        18     1181027.0     1861693.0  2006   \n",
       "2   ...   5.0            69.0       04A     1186023.0     1859609.0  2006   \n",
       "3   ...  38.0            17.0       08B     1134772.0     1922299.0  2006   \n",
       "4   ...  13.0            65.0        18     1152412.0     1864560.0  2006   \n",
       "5   ...  17.0            67.0       08A     1167688.0     1855998.0  2006   \n",
       "6   ...  45.0            11.0       08B     1140791.0     1932993.0  2006   \n",
       "7   ...  15.0            66.0        06     1160205.0     1859776.0  2006   \n",
       "8   ...  32.0            24.0       08A     1163122.0     1905349.0  2006   \n",
       "9   ...  20.0            42.0       08B     1180669.0     1863047.0  2006   \n",
       "10  ...  42.0            32.0        06     1175135.0     1900412.0  2006   \n",
       "11  ...   3.0            35.0        26     1176025.0     1885766.0  2006   \n",
       "12  ...   8.0            45.0        07     1189375.0     1847970.0  2006   \n",
       "13  ...  28.0            25.0        18     1142168.0     1898610.0  2006   \n",
       "14  ...   5.0            69.0       04B     1185483.0     1856655.0  2006   \n",
       "\n",
       "                Updated On   Latitude  Longitude  \\\n",
       "0   04/15/2016 08:55:02 AM  41.981913 -87.771996   \n",
       "1   04/15/2016 08:55:02 AM  41.775733 -87.611920   \n",
       "2   04/15/2016 08:55:02 AM  41.769897 -87.593671   \n",
       "3   04/15/2016 08:55:02 AM  41.942984 -87.780057   \n",
       "4   04/15/2016 08:55:02 AM  41.784211 -87.716745   \n",
       "5   04/15/2016 08:55:02 AM  41.760401 -87.660982   \n",
       "6   04/15/2016 08:55:02 AM  41.972221 -87.757670   \n",
       "7   04/15/2016 08:55:02 AM  41.770926 -87.688304   \n",
       "8   04/15/2016 08:55:02 AM  41.895923 -87.676334   \n",
       "9   04/15/2016 08:55:02 AM  41.779456 -87.613191   \n",
       "10  04/15/2016 08:55:02 AM  41.882114 -87.632361   \n",
       "11  04/15/2016 08:55:02 AM  41.841905 -87.629534   \n",
       "12  04/15/2016 08:55:02 AM  41.737879 -87.581757   \n",
       "13  04/15/2016 08:55:02 AM  41.877845 -87.753461   \n",
       "14  04/15/2016 08:55:02 AM  41.761804 -87.595743   \n",
       "\n",
       "                         Location  \n",
       "0   (41.981912692, -87.771996382)  \n",
       "1   (41.775732538, -87.611919814)  \n",
       "2   (41.769897392, -87.593670899)  \n",
       "3   (41.942984005, -87.780056951)  \n",
       "4    (41.784210853, -87.71674491)  \n",
       "5   (41.760401372, -87.660982392)  \n",
       "6    (41.972220564, -87.75766982)  \n",
       "7   (41.770925978, -87.688304107)  \n",
       "8   (41.895922672, -87.676333733)  \n",
       "9    (41.77945628, -87.613190628)  \n",
       "10  (41.882114362, -87.632361012)  \n",
       "11  (41.841904764, -87.629533842)  \n",
       "12  (41.737879171, -87.581756795)  \n",
       "13   (41.87784456, -87.753461293)  \n",
       "14  (41.761804069, -87.595743133)  \n",
       "\n",
       "[15 rows x 23 columns]"
      ]
     },
     "execution_count": 14,
     "metadata": {},
     "output_type": "execute_result"
    }
   ],
   "source": [
    "dataset.head(15)"
   ]
  },
  {
   "cell_type": "code",
   "execution_count": 15,
   "metadata": {
    "colab": {
     "base_uri": "https://localhost:8080/",
     "height": 180
    },
    "colab_type": "code",
    "id": "yi8UkR5MdfCF",
    "outputId": "700bb4e2-68a0-45fa-9d06-af4faf645836"
   },
   "outputs": [
    {
     "data": {
      "text/plain": [
       "<matplotlib.axes._subplots.AxesSubplot at 0x1bd892fa088>"
      ]
     },
     "execution_count": 15,
     "metadata": {},
     "output_type": "execute_result"
    },
    {
     "data": {
      "image/png": "[encoded data removed]",
      "text/plain": [
       "<Figure size 864x864 with 1 Axes>"
      ]
     },
     "metadata": {
      "needs_background": "light"
     },
     "output_type": "display_data"
    }
   ],
   "source": [
    "# Let's see how many null elements are contained in the data\n",
    "\n",
    "plt.figure(figsize=(12 , 12))\n",
    "sns.heatmap(dataset.isnull(), cbar = False, cmap = 'bwr')"
   ]
  },
  {
   "cell_type": "markdown",
   "metadata": {
    "colab": {},
    "colab_type": "code",
    "id": "z0x9wBjtdfAa"
   },
   "source": [
    "## Exploratory Data Analysis"
   ]
  },
  {
   "cell_type": "markdown",
   "metadata": {
    "colab": {},
    "colab_type": "code",
    "id": "TUKDbegWde0k"
   },
   "source": [
    "2 . Find out the most number of unique cases.(from Primary type column)\n",
    "\n",
    "3 . Find the information from Description columns\n",
    "\n",
    "4 . Which location have the most dangerous.(from location description column)\n",
    "\n",
    "5 . Arrest was happend or not find.\n",
    "\n",
    "6 . Work with Beat.\n",
    "\n",
    "7 . Which part of the location find the ward.(from Ward col.)\n",
    "\n",
    "8 . Work with year.\n",
    "\n",
    "9 . Difference between updated.(from Updated On col.)\n",
    "\n",
    "10 . Work with location.\n",
    "\n",
    "11 . Relation between area and crime and type of crime\n",
    "\n",
    "12 . Dangerous area and arrest relation.\n",
    "\n",
    "13 . Year wise Crime."
   ]
  },
  {
   "cell_type": "code",
   "execution_count": 8,
   "metadata": {},
   "outputs": [
    {
     "data": {
      "text/plain": [
       "0          04/02/2006 01:00:00 PM\n",
       "1          02/26/2006 01:40:48 PM\n",
       "2          01/08/2006 11:16:00 PM\n",
       "3          04/05/2006 06:45:00 PM\n",
       "4          02/17/2006 09:03:14 PM\n",
       "                    ...          \n",
       "1456709    05/03/2016 11:33:00 PM\n",
       "1456710    05/03/2016 11:30:00 PM\n",
       "1456711    05/03/2016 12:15:00 AM\n",
       "1456712    05/03/2016 09:07:00 PM\n",
       "1456713    05/03/2016 11:38:00 PM\n",
       "Name: Date, Length: 6017767, dtype: object"
      ]
     },
     "execution_count": 8,
     "metadata": {},
     "output_type": "execute_result"
    }
   ],
   "source": [
    "dataset['Date']"
   ]
  },
  {
   "cell_type": "markdown",
   "metadata": {},
   "source": [
    "Now change the date format.Make the date in a similar format in all rows."
   ]
  },
  {
   "cell_type": "code",
   "execution_count": 9,
   "metadata": {},
   "outputs": [],
   "source": [
    "## Change data format\n",
    "\n",
    "dataset.Date = pd.to_datetime(dataset.Date , format = \"%m/%d/%Y %I:%M:%S %p\")"
   ]
  },
  {
   "cell_type": "code",
   "execution_count": 10,
   "metadata": {},
   "outputs": [
    {
     "data": {
      "text/plain": [
       "0         2006-04-02 13:00:00\n",
       "1         2006-02-26 13:40:48\n",
       "2         2006-01-08 23:16:00\n",
       "3         2006-04-05 18:45:00\n",
       "4         2006-02-17 21:03:14\n",
       "                  ...        \n",
       "1456709   2016-05-03 23:33:00\n",
       "1456710   2016-05-03 23:30:00\n",
       "1456711   2016-05-03 00:15:00\n",
       "1456712   2016-05-03 21:07:00\n",
       "1456713   2016-05-03 23:38:00\n",
       "Name: Date, Length: 6017767, dtype: datetime64[ns]"
      ]
     },
     "execution_count": 10,
     "metadata": {},
     "output_type": "execute_result"
    }
   ],
   "source": [
    "dataset.Date"
   ]
  },
  {
   "cell_type": "code",
   "execution_count": 11,
   "metadata": {},
   "outputs": [],
   "source": [
    "# setting the index to be the date \n",
    "dataset.index = pd.DatetimeIndex(dataset.Date)"
   ]
  },
  {
   "cell_type": "code",
   "execution_count": 12,
   "metadata": {},
   "outputs": [
    {
     "data": {
      "text/html": [
       "<div>\n",
       "<style scoped>\n",
       "    .dataframe tbody tr th:only-of-type {\n",
       "        vertical-align: middle;\n",
       "    }\n",
       "\n",
       "    .dataframe tbody tr th {\n",
       "        vertical-align: top;\n",
       "    }\n",
       "\n",
       "    .dataframe thead th {\n",
       "        text-align: right;\n",
       "    }\n",
       "</style>\n",
       "<table border=\"1\" class=\"dataframe\">\n",
       "  <thead>\n",
       "    <tr style=\"text-align: right;\">\n",
       "      <th></th>\n",
       "      <th>Unnamed: 0</th>\n",
       "      <th>ID</th>\n",
       "      <th>Case Number</th>\n",
       "      <th>Date</th>\n",
       "      <th>Block</th>\n",
       "      <th>IUCR</th>\n",
       "      <th>Primary Type</th>\n",
       "      <th>Description</th>\n",
       "      <th>Location Description</th>\n",
       "      <th>Arrest</th>\n",
       "      <th>...</th>\n",
       "      <th>Ward</th>\n",
       "      <th>Community Area</th>\n",
       "      <th>FBI Code</th>\n",
       "      <th>X Coordinate</th>\n",
       "      <th>Y Coordinate</th>\n",
       "      <th>Year</th>\n",
       "      <th>Updated On</th>\n",
       "      <th>Latitude</th>\n",
       "      <th>Longitude</th>\n",
       "      <th>Location</th>\n",
       "    </tr>\n",
       "    <tr>\n",
       "      <th>Date</th>\n",
       "      <th></th>\n",
       "      <th></th>\n",
       "      <th></th>\n",
       "      <th></th>\n",
       "      <th></th>\n",
       "      <th></th>\n",
       "      <th></th>\n",
       "      <th></th>\n",
       "      <th></th>\n",
       "      <th></th>\n",
       "      <th></th>\n",
       "      <th></th>\n",
       "      <th></th>\n",
       "      <th></th>\n",
       "      <th></th>\n",
       "      <th></th>\n",
       "      <th></th>\n",
       "      <th></th>\n",
       "      <th></th>\n",
       "      <th></th>\n",
       "      <th></th>\n",
       "    </tr>\n",
       "  </thead>\n",
       "  <tbody>\n",
       "    <tr>\n",
       "      <td>2006-04-02 13:00:00</td>\n",
       "      <td>0</td>\n",
       "      <td>4673626</td>\n",
       "      <td>HM274058</td>\n",
       "      <td>2006-04-02 13:00:00</td>\n",
       "      <td>055XX N MANGO AVE</td>\n",
       "      <td>2825</td>\n",
       "      <td>OTHER OFFENSE</td>\n",
       "      <td>HARASSMENT BY TELEPHONE</td>\n",
       "      <td>RESIDENCE</td>\n",
       "      <td>False</td>\n",
       "      <td>...</td>\n",
       "      <td>45.0</td>\n",
       "      <td>11.0</td>\n",
       "      <td>26</td>\n",
       "      <td>1136872.0</td>\n",
       "      <td>1936499.0</td>\n",
       "      <td>2006</td>\n",
       "      <td>04/15/2016 08:55:02 AM</td>\n",
       "      <td>41.981913</td>\n",
       "      <td>-87.771996</td>\n",
       "      <td>(41.981912692, -87.771996382)</td>\n",
       "    </tr>\n",
       "    <tr>\n",
       "      <td>2006-02-26 13:40:48</td>\n",
       "      <td>1</td>\n",
       "      <td>4673627</td>\n",
       "      <td>HM202199</td>\n",
       "      <td>2006-02-26 13:40:48</td>\n",
       "      <td>065XX S RHODES AVE</td>\n",
       "      <td>2017</td>\n",
       "      <td>NARCOTICS</td>\n",
       "      <td>MANU/DELIVER:CRACK</td>\n",
       "      <td>SIDEWALK</td>\n",
       "      <td>True</td>\n",
       "      <td>...</td>\n",
       "      <td>20.0</td>\n",
       "      <td>42.0</td>\n",
       "      <td>18</td>\n",
       "      <td>1181027.0</td>\n",
       "      <td>1861693.0</td>\n",
       "      <td>2006</td>\n",
       "      <td>04/15/2016 08:55:02 AM</td>\n",
       "      <td>41.775733</td>\n",
       "      <td>-87.611920</td>\n",
       "      <td>(41.775732538, -87.611919814)</td>\n",
       "    </tr>\n",
       "    <tr>\n",
       "      <td>2006-01-08 23:16:00</td>\n",
       "      <td>2</td>\n",
       "      <td>4673628</td>\n",
       "      <td>HM113861</td>\n",
       "      <td>2006-01-08 23:16:00</td>\n",
       "      <td>013XX E 69TH ST</td>\n",
       "      <td>051A</td>\n",
       "      <td>ASSAULT</td>\n",
       "      <td>AGGRAVATED: HANDGUN</td>\n",
       "      <td>OTHER</td>\n",
       "      <td>False</td>\n",
       "      <td>...</td>\n",
       "      <td>5.0</td>\n",
       "      <td>69.0</td>\n",
       "      <td>04A</td>\n",
       "      <td>1186023.0</td>\n",
       "      <td>1859609.0</td>\n",
       "      <td>2006</td>\n",
       "      <td>04/15/2016 08:55:02 AM</td>\n",
       "      <td>41.769897</td>\n",
       "      <td>-87.593671</td>\n",
       "      <td>(41.769897392, -87.593670899)</td>\n",
       "    </tr>\n",
       "    <tr>\n",
       "      <td>2006-04-05 18:45:00</td>\n",
       "      <td>4</td>\n",
       "      <td>4673629</td>\n",
       "      <td>HM274049</td>\n",
       "      <td>2006-04-05 18:45:00</td>\n",
       "      <td>061XX W NEWPORT AVE</td>\n",
       "      <td>0460</td>\n",
       "      <td>BATTERY</td>\n",
       "      <td>SIMPLE</td>\n",
       "      <td>RESIDENCE</td>\n",
       "      <td>False</td>\n",
       "      <td>...</td>\n",
       "      <td>38.0</td>\n",
       "      <td>17.0</td>\n",
       "      <td>08B</td>\n",
       "      <td>1134772.0</td>\n",
       "      <td>1922299.0</td>\n",
       "      <td>2006</td>\n",
       "      <td>04/15/2016 08:55:02 AM</td>\n",
       "      <td>41.942984</td>\n",
       "      <td>-87.780057</td>\n",
       "      <td>(41.942984005, -87.780056951)</td>\n",
       "    </tr>\n",
       "    <tr>\n",
       "      <td>2006-02-17 21:03:14</td>\n",
       "      <td>5</td>\n",
       "      <td>4673630</td>\n",
       "      <td>HM187120</td>\n",
       "      <td>2006-02-17 21:03:14</td>\n",
       "      <td>037XX W 60TH ST</td>\n",
       "      <td>1811</td>\n",
       "      <td>NARCOTICS</td>\n",
       "      <td>POSS: CANNABIS 30GMS OR LESS</td>\n",
       "      <td>ALLEY</td>\n",
       "      <td>True</td>\n",
       "      <td>...</td>\n",
       "      <td>13.0</td>\n",
       "      <td>65.0</td>\n",
       "      <td>18</td>\n",
       "      <td>1152412.0</td>\n",
       "      <td>1864560.0</td>\n",
       "      <td>2006</td>\n",
       "      <td>04/15/2016 08:55:02 AM</td>\n",
       "      <td>41.784211</td>\n",
       "      <td>-87.716745</td>\n",
       "      <td>(41.784210853, -87.71674491)</td>\n",
       "    </tr>\n",
       "  </tbody>\n",
       "</table>\n",
       "<p>5 rows × 23 columns</p>\n",
       "</div>"
      ],
      "text/plain": [
       "                     Unnamed: 0       ID Case Number                Date  \\\n",
       "Date                                                                       \n",
       "2006-04-02 13:00:00           0  4673626    HM274058 2006-04-02 13:00:00   \n",
       "2006-02-26 13:40:48           1  4673627    HM202199 2006-02-26 13:40:48   \n",
       "2006-01-08 23:16:00           2  4673628    HM113861 2006-01-08 23:16:00   \n",
       "2006-04-05 18:45:00           4  4673629    HM274049 2006-04-05 18:45:00   \n",
       "2006-02-17 21:03:14           5  4673630    HM187120 2006-02-17 21:03:14   \n",
       "\n",
       "                                   Block  IUCR   Primary Type  \\\n",
       "Date                                                            \n",
       "2006-04-02 13:00:00    055XX N MANGO AVE  2825  OTHER OFFENSE   \n",
       "2006-02-26 13:40:48   065XX S RHODES AVE  2017      NARCOTICS   \n",
       "2006-01-08 23:16:00      013XX E 69TH ST  051A        ASSAULT   \n",
       "2006-04-05 18:45:00  061XX W NEWPORT AVE  0460        BATTERY   \n",
       "2006-02-17 21:03:14      037XX W 60TH ST  1811      NARCOTICS   \n",
       "\n",
       "                                      Description Location Description  \\\n",
       "Date                                                                     \n",
       "2006-04-02 13:00:00       HARASSMENT BY TELEPHONE            RESIDENCE   \n",
       "2006-02-26 13:40:48            MANU/DELIVER:CRACK             SIDEWALK   \n",
       "2006-01-08 23:16:00           AGGRAVATED: HANDGUN                OTHER   \n",
       "2006-04-05 18:45:00                        SIMPLE            RESIDENCE   \n",
       "2006-02-17 21:03:14  POSS: CANNABIS 30GMS OR LESS                ALLEY   \n",
       "\n",
       "                     Arrest  ...  Ward  Community Area  FBI Code  \\\n",
       "Date                         ...                                   \n",
       "2006-04-02 13:00:00   False  ...  45.0            11.0        26   \n",
       "2006-02-26 13:40:48    True  ...  20.0            42.0        18   \n",
       "2006-01-08 23:16:00   False  ...   5.0            69.0       04A   \n",
       "2006-04-05 18:45:00   False  ...  38.0            17.0       08B   \n",
       "2006-02-17 21:03:14    True  ...  13.0            65.0        18   \n",
       "\n",
       "                     X Coordinate  Y Coordinate  Year              Updated On  \\\n",
       "Date                                                                            \n",
       "2006-04-02 13:00:00     1136872.0     1936499.0  2006  04/15/2016 08:55:02 AM   \n",
       "2006-02-26 13:40:48     1181027.0     1861693.0  2006  04/15/2016 08:55:02 AM   \n",
       "2006-01-08 23:16:00     1186023.0     1859609.0  2006  04/15/2016 08:55:02 AM   \n",
       "2006-04-05 18:45:00     1134772.0     1922299.0  2006  04/15/2016 08:55:02 AM   \n",
       "2006-02-17 21:03:14     1152412.0     1864560.0  2006  04/15/2016 08:55:02 AM   \n",
       "\n",
       "                      Latitude  Longitude                       Location  \n",
       "Date                                                                      \n",
       "2006-04-02 13:00:00  41.981913 -87.771996  (41.981912692, -87.771996382)  \n",
       "2006-02-26 13:40:48  41.775733 -87.611920  (41.775732538, -87.611919814)  \n",
       "2006-01-08 23:16:00  41.769897 -87.593671  (41.769897392, -87.593670899)  \n",
       "2006-04-05 18:45:00  41.942984 -87.780057  (41.942984005, -87.780056951)  \n",
       "2006-02-17 21:03:14  41.784211 -87.716745   (41.784210853, -87.71674491)  \n",
       "\n",
       "[5 rows x 23 columns]"
      ]
     },
     "execution_count": 12,
     "metadata": {},
     "output_type": "execute_result"
    }
   ],
   "source": [
    "dataset.head()"
   ]
  },
  {
   "cell_type": "markdown",
   "metadata": {},
   "source": [
    "#### Most Popular crime type"
   ]
  },
  {
   "cell_type": "code",
   "execution_count": 5,
   "metadata": {},
   "outputs": [
    {
     "data": {
      "text/plain": [
       "THEFT                                1245111\n",
       "BATTERY                              1079178\n",
       "CRIMINAL DAMAGE                       702702\n",
       "NARCOTICS                             674831\n",
       "BURGLARY                              369056\n",
       "OTHER OFFENSE                         368169\n",
       "ASSAULT                               360244\n",
       "MOTOR VEHICLE THEFT                   271624\n",
       "ROBBERY                               229467\n",
       "DECEPTIVE PRACTICE                    225180\n",
       "CRIMINAL TRESPASS                     171596\n",
       "PROSTITUTION                           60735\n",
       "WEAPONS VIOLATION                      60335\n",
       "PUBLIC PEACE VIOLATION                 48403\n",
       "OFFENSE INVOLVING CHILDREN             40260\n",
       "CRIM SEXUAL ASSAULT                    22789\n",
       "SEX OFFENSE                            20172\n",
       "GAMBLING                               14755\n",
       "INTERFERENCE WITH PUBLIC OFFICER       14009\n",
       "LIQUOR LAW VIOLATION                   12129\n",
       "ARSON                                   9269\n",
       "HOMICIDE                                5879\n",
       "KIDNAPPING                              4734\n",
       "INTIMIDATION                            3324\n",
       "STALKING                                2866\n",
       "OBSCENITY                                422\n",
       "PUBLIC INDECENCY                         134\n",
       "OTHER NARCOTIC VIOLATION                 122\n",
       "NON-CRIMINAL                              96\n",
       "CONCEALED CARRY LICENSE VIOLATION         90\n",
       "NON - CRIMINAL                            38\n",
       "HUMAN TRAFFICKING                         28\n",
       "RITUALISM                                 16\n",
       "NON-CRIMINAL (SUBJECT SPECIFIED)           4\n",
       "Name: Primary Type, dtype: int64"
      ]
     },
     "execution_count": 5,
     "metadata": {},
     "output_type": "execute_result"
    }
   ],
   "source": [
    "dataset['Primary Type'].value_counts()"
   ]
  },
  {
   "cell_type": "code",
   "execution_count": 23,
   "metadata": {},
   "outputs": [
    {
     "data": {
      "image/png": "[encoded data removed]",
      "text/plain": [
       "<Figure size 1440x1440 with 1 Axes>"
      ]
     },
     "metadata": {},
     "output_type": "display_data"
    }
   ],
   "source": [
    "top_crime = dataset['Primary Type'].value_counts().iloc[:20]\n",
    "\n",
    "\n",
    "i = 0\n",
    "crime_count = []\n",
    "\n",
    "for crime in top_crime.index:\n",
    "    crime_count.append([crime , top_crime[i]])\n",
    "    i = i + 1\n",
    "\n",
    "\n",
    "plt.rc('font' , weight = 'bold')\n",
    "f , ax = plt.subplots(figsize = (20 , 20))\n",
    "crime_count.sort(key = lambda x:x[1] , reverse = True)\n",
    "labels , sizes = zip(*crime_count)\n",
    "labels_selected = [n if v > sum(sizes) * 0.01 else '' for n , v in crime_count]\n",
    "ax.pie(sizes , labels = labels_selected , autopct = lambda x:'{:2.0f}%'.format(x) if x > 1 else '' , shadow = False , startangle = 0)\n",
    "ax.axis('equal')\n",
    "plt.tight_layout()"
   ]
  },
  {
   "cell_type": "code",
   "execution_count": 7,
   "metadata": {},
   "outputs": [
    {
     "data": {
      "text/plain": [
       "<matplotlib.axes._subplots.AxesSubplot at 0x1d78c99a2c8>"
      ]
     },
     "execution_count": 7,
     "metadata": {},
     "output_type": "execute_result"
    },
    {
     "data": {
      "image/png": "[encoded data removed]",
      "text/plain": [
       "<Figure size 1080x720 with 1 Axes>"
      ]
     },
     "metadata": {
      "needs_background": "light"
     },
     "output_type": "display_data"
    }
   ],
   "source": [
    "plt.figure(figsize = (15, 10))\n",
    "sns.countplot(y= 'Primary Type' , data = dataset , order = dataset['Primary Type'].value_counts().iloc[:25].index)"
   ]
  },
  {
   "cell_type": "markdown",
   "metadata": {},
   "source": [
    "The most crime case is THEFT and the lowest is RITUALISM.21% cases are THEFT , 18% are BATTERY.Beside that there are many types of crime like BURGLARY , CRIMINAL DAMAGE and many more."
   ]
  },
  {
   "cell_type": "markdown",
   "metadata": {},
   "source": [
    "#### Find the location Description"
   ]
  },
  {
   "cell_type": "code",
   "execution_count": 33,
   "metadata": {},
   "outputs": [
    {
     "data": {
      "text/plain": [
       "STREET           1517724\n",
       "RESIDENCE         991977\n",
       "SIDEWALK          674793\n",
       "APARTMENT         668298\n",
       "OTHER             216154\n",
       "                  ...   \n",
       "TRAILER                1\n",
       "CTA PROPERTY           1\n",
       "CHA PLAY LOT           1\n",
       "ROOMING HOUSE          1\n",
       "POOLROOM               1\n",
       "Name: Location Description, Length: 161, dtype: int64"
      ]
     },
     "execution_count": 33,
     "metadata": {},
     "output_type": "execute_result"
    }
   ],
   "source": [
    "dataset['Location Description'].value_counts()"
   ]
  },
  {
   "cell_type": "code",
   "execution_count": 36,
   "metadata": {},
   "outputs": [
    {
     "data": {
      "text/plain": [
       "<matplotlib.axes._subplots.AxesSubplot at 0x1d7c0831288>"
      ]
     },
     "execution_count": 36,
     "metadata": {},
     "output_type": "execute_result"
    },
    {
     "data": {
      "image/png": "[encoded data removed]",
      "text/plain": [
       "<Figure size 1080x1080 with 1 Axes>"
      ]
     },
     "metadata": {
      "needs_background": "light"
     },
     "output_type": "display_data"
    }
   ],
   "source": [
    "plt.figure(figsize = (15, 15))\n",
    "sns.countplot(y= 'Location Description' , data = dataset , order = dataset['Location Description'].value_counts().iloc[:35].index)"
   ]
  },
  {
   "cell_type": "code",
   "execution_count": null,
   "metadata": {},
   "outputs": [],
   "source": []
  },
  {
   "cell_type": "code",
   "execution_count": null,
   "metadata": {},
   "outputs": [],
   "source": []
  },
  {
   "cell_type": "code",
   "execution_count": null,
   "metadata": {},
   "outputs": [],
   "source": []
  },
  {
   "cell_type": "code",
   "execution_count": null,
   "metadata": {},
   "outputs": [],
   "source": []
  },
  {
   "cell_type": "code",
   "execution_count": null,
   "metadata": {},
   "outputs": [],
   "source": []
  },
  {
   "cell_type": "code",
   "execution_count": null,
   "metadata": {},
   "outputs": [],
   "source": []
  },
  {
   "cell_type": "code",
   "execution_count": null,
   "metadata": {},
   "outputs": [],
   "source": []
  },
  {
   "cell_type": "code",
   "execution_count": null,
   "metadata": {},
   "outputs": [],
   "source": []
  },
  {
   "cell_type": "code",
   "execution_count": null,
   "metadata": {},
   "outputs": [],
   "source": []
  },
  {
   "cell_type": "code",
   "execution_count": null,
   "metadata": {},
   "outputs": [],
   "source": []
  },
  {
   "cell_type": "code",
   "execution_count": null,
   "metadata": {},
   "outputs": [],
   "source": []
  },
  {
   "cell_type": "code",
   "execution_count": null,
   "metadata": {},
   "outputs": [],
   "source": []
  },
  {
   "cell_type": "code",
   "execution_count": null,
   "metadata": {},
   "outputs": [],
   "source": []
  },
  {
   "cell_type": "code",
   "execution_count": null,
   "metadata": {},
   "outputs": [],
   "source": []
  },
  {
   "cell_type": "code",
   "execution_count": null,
   "metadata": {},
   "outputs": [],
   "source": []
  },
  {
   "cell_type": "code",
   "execution_count": null,
   "metadata": {},
   "outputs": [],
   "source": []
  },
  {
   "cell_type": "code",
   "execution_count": null,
   "metadata": {},
   "outputs": [],
   "source": []
  },
  {
   "cell_type": "code",
   "execution_count": null,
   "metadata": {},
   "outputs": [],
   "source": []
  },
  {
   "cell_type": "code",
   "execution_count": null,
   "metadata": {},
   "outputs": [],
   "source": []
  },
  {
   "cell_type": "code",
   "execution_count": null,
   "metadata": {},
   "outputs": [],
   "source": []
  },
  {
   "cell_type": "code",
   "execution_count": null,
   "metadata": {},
   "outputs": [],
   "source": []
  },
  {
   "cell_type": "code",
   "execution_count": null,
   "metadata": {},
   "outputs": [],
   "source": []
  },
  {
   "cell_type": "code",
   "execution_count": null,
   "metadata": {},
   "outputs": [],
   "source": []
  },
  {
   "cell_type": "code",
   "execution_count": null,
   "metadata": {},
   "outputs": [],
   "source": []
  },
  {
   "cell_type": "code",
   "execution_count": null,
   "metadata": {},
   "outputs": [],
   "source": []
  },
  {
   "cell_type": "code",
   "execution_count": null,
   "metadata": {},
   "outputs": [],
   "source": []
  },
  {
   "cell_type": "code",
   "execution_count": null,
   "metadata": {},
   "outputs": [],
   "source": []
  },
  {
   "cell_type": "code",
   "execution_count": null,
   "metadata": {},
   "outputs": [],
   "source": []
  },
  {
   "cell_type": "code",
   "execution_count": null,
   "metadata": {},
   "outputs": [],
   "source": []
  },
  {
   "cell_type": "code",
   "execution_count": null,
   "metadata": {},
   "outputs": [],
   "source": []
  },
  {
   "cell_type": "code",
   "execution_count": null,
   "metadata": {},
   "outputs": [],
   "source": []
  },
  {
   "cell_type": "code",
   "execution_count": null,
   "metadata": {},
   "outputs": [],
   "source": []
  },
  {
   "cell_type": "markdown",
   "metadata": {},
   "source": [
    "Delete some columns which are not necessary for our work.In this project there will be focus only on crime prediction part."
   ]
  },
  {
   "cell_type": "code",
   "execution_count": 24,
   "metadata": {
    "colab": {},
    "colab_type": "code",
    "id": "bogfVvwjdevV"
   },
   "outputs": [],
   "source": [
    "new_dataset = dataset.drop(['Unnamed: 0', 'Case Number', 'Case Number', 'IUCR', 'X Coordinate', 'Y Coordinate','Updated On','Year', 'FBI Code', 'Beat','Ward','Community Area', 'Location', 'District', 'Latitude' , 'Longitude'] , axis = 1)"
   ]
  },
  {
   "cell_type": "code",
   "execution_count": 25,
   "metadata": {},
   "outputs": [
    {
     "data": {
      "text/plain": [
       "(6017767, 8)"
      ]
     },
     "execution_count": 25,
     "metadata": {},
     "output_type": "execute_result"
    }
   ],
   "source": [
    "new_dataset.shape"
   ]
  },
  {
   "cell_type": "code",
   "execution_count": 26,
   "metadata": {},
   "outputs": [
    {
     "data": {
      "text/plain": [
       "ID                         0\n",
       "Date                       0\n",
       "Block                      0\n",
       "Primary Type               0\n",
       "Description                0\n",
       "Location Description    1974\n",
       "Arrest                     0\n",
       "Domestic                   0\n",
       "dtype: int64"
      ]
     },
     "execution_count": 26,
     "metadata": {},
     "output_type": "execute_result"
    }
   ],
   "source": [
    "new_dataset.isnull().sum()"
   ]
  },
  {
   "cell_type": "markdown",
   "metadata": {},
   "source": [
    "We have mainly deleted those missing value columns and now we have only one missing value column left.The number of missing value is so low comparing with the dataset."
   ]
  },
  {
   "cell_type": "code",
   "execution_count": 28,
   "metadata": {},
   "outputs": [
    {
     "data": {
      "text/html": [
       "<div>\n",
       "<style scoped>\n",
       "    .dataframe tbody tr th:only-of-type {\n",
       "        vertical-align: middle;\n",
       "    }\n",
       "\n",
       "    .dataframe tbody tr th {\n",
       "        vertical-align: top;\n",
       "    }\n",
       "\n",
       "    .dataframe thead th {\n",
       "        text-align: right;\n",
       "    }\n",
       "</style>\n",
       "<table border=\"1\" class=\"dataframe\">\n",
       "  <thead>\n",
       "    <tr style=\"text-align: right;\">\n",
       "      <th></th>\n",
       "      <th>ID</th>\n",
       "      <th>Date</th>\n",
       "      <th>Block</th>\n",
       "      <th>Primary Type</th>\n",
       "      <th>Description</th>\n",
       "      <th>Location Description</th>\n",
       "      <th>Arrest</th>\n",
       "      <th>Domestic</th>\n",
       "    </tr>\n",
       "  </thead>\n",
       "  <tbody>\n",
       "    <tr>\n",
       "      <td>0</td>\n",
       "      <td>4673626</td>\n",
       "      <td>04/02/2006 01:00:00 PM</td>\n",
       "      <td>055XX N MANGO AVE</td>\n",
       "      <td>OTHER OFFENSE</td>\n",
       "      <td>HARASSMENT BY TELEPHONE</td>\n",
       "      <td>RESIDENCE</td>\n",
       "      <td>False</td>\n",
       "      <td>False</td>\n",
       "    </tr>\n",
       "    <tr>\n",
       "      <td>1</td>\n",
       "      <td>4673627</td>\n",
       "      <td>02/26/2006 01:40:48 PM</td>\n",
       "      <td>065XX S RHODES AVE</td>\n",
       "      <td>NARCOTICS</td>\n",
       "      <td>MANU/DELIVER:CRACK</td>\n",
       "      <td>SIDEWALK</td>\n",
       "      <td>True</td>\n",
       "      <td>False</td>\n",
       "    </tr>\n",
       "    <tr>\n",
       "      <td>2</td>\n",
       "      <td>4673628</td>\n",
       "      <td>01/08/2006 11:16:00 PM</td>\n",
       "      <td>013XX E 69TH ST</td>\n",
       "      <td>ASSAULT</td>\n",
       "      <td>AGGRAVATED: HANDGUN</td>\n",
       "      <td>OTHER</td>\n",
       "      <td>False</td>\n",
       "      <td>False</td>\n",
       "    </tr>\n",
       "    <tr>\n",
       "      <td>3</td>\n",
       "      <td>4673629</td>\n",
       "      <td>04/05/2006 06:45:00 PM</td>\n",
       "      <td>061XX W NEWPORT AVE</td>\n",
       "      <td>BATTERY</td>\n",
       "      <td>SIMPLE</td>\n",
       "      <td>RESIDENCE</td>\n",
       "      <td>False</td>\n",
       "      <td>False</td>\n",
       "    </tr>\n",
       "    <tr>\n",
       "      <td>4</td>\n",
       "      <td>4673630</td>\n",
       "      <td>02/17/2006 09:03:14 PM</td>\n",
       "      <td>037XX W 60TH ST</td>\n",
       "      <td>NARCOTICS</td>\n",
       "      <td>POSS: CANNABIS 30GMS OR LESS</td>\n",
       "      <td>ALLEY</td>\n",
       "      <td>True</td>\n",
       "      <td>False</td>\n",
       "    </tr>\n",
       "  </tbody>\n",
       "</table>\n",
       "</div>"
      ],
      "text/plain": [
       "        ID                    Date                Block   Primary Type  \\\n",
       "0  4673626  04/02/2006 01:00:00 PM    055XX N MANGO AVE  OTHER OFFENSE   \n",
       "1  4673627  02/26/2006 01:40:48 PM   065XX S RHODES AVE      NARCOTICS   \n",
       "2  4673628  01/08/2006 11:16:00 PM      013XX E 69TH ST        ASSAULT   \n",
       "3  4673629  04/05/2006 06:45:00 PM  061XX W NEWPORT AVE        BATTERY   \n",
       "4  4673630  02/17/2006 09:03:14 PM      037XX W 60TH ST      NARCOTICS   \n",
       "\n",
       "                    Description Location Description  Arrest  Domestic  \n",
       "0       HARASSMENT BY TELEPHONE            RESIDENCE   False     False  \n",
       "1            MANU/DELIVER:CRACK             SIDEWALK    True     False  \n",
       "2           AGGRAVATED: HANDGUN                OTHER   False     False  \n",
       "3                        SIMPLE            RESIDENCE   False     False  \n",
       "4  POSS: CANNABIS 30GMS OR LESS                ALLEY    True     False  "
      ]
     },
     "execution_count": 28,
     "metadata": {},
     "output_type": "execute_result"
    }
   ],
   "source": [
    "new_dataset.head()"
   ]
  },
  {
   "cell_type": "code",
   "execution_count": 35,
   "metadata": {},
   "outputs": [
    {
     "data": {
      "text/plain": [
       "THEFT                                1245111\n",
       "BATTERY                              1079178\n",
       "CRIMINAL DAMAGE                       702702\n",
       "NARCOTICS                             674831\n",
       "BURGLARY                              369056\n",
       "OTHER OFFENSE                         368169\n",
       "ASSAULT                               360244\n",
       "MOTOR VEHICLE THEFT                   271624\n",
       "ROBBERY                               229467\n",
       "DECEPTIVE PRACTICE                    225180\n",
       "CRIMINAL TRESPASS                     171596\n",
       "PROSTITUTION                           60735\n",
       "WEAPONS VIOLATION                      60335\n",
       "PUBLIC PEACE VIOLATION                 48403\n",
       "OFFENSE INVOLVING CHILDREN             40260\n",
       "CRIM SEXUAL ASSAULT                    22789\n",
       "SEX OFFENSE                            20172\n",
       "GAMBLING                               14755\n",
       "INTERFERENCE WITH PUBLIC OFFICER       14009\n",
       "LIQUOR LAW VIOLATION                   12129\n",
       "ARSON                                   9269\n",
       "HOMICIDE                                5879\n",
       "KIDNAPPING                              4734\n",
       "INTIMIDATION                            3324\n",
       "STALKING                                2866\n",
       "OBSCENITY                                422\n",
       "PUBLIC INDECENCY                         134\n",
       "OTHER NARCOTIC VIOLATION                 122\n",
       "NON-CRIMINAL                              96\n",
       "CONCEALED CARRY LICENSE VIOLATION         90\n",
       "NON - CRIMINAL                            38\n",
       "HUMAN TRAFFICKING                         28\n",
       "RITUALISM                                 16\n",
       "NON-CRIMINAL (SUBJECT SPECIFIED)           4\n",
       "Name: Primary Type, dtype: int64"
      ]
     },
     "execution_count": 35,
     "metadata": {},
     "output_type": "execute_result"
    }
   ],
   "source": [
    "## Check which crime are most\n",
    "\n",
    "new_dataset['Primary Type'].value_counts()"
   ]
  },
  {
   "cell_type": "markdown",
   "metadata": {},
   "source": [
    "Theft has did the most number of crime.After that Battery is second highest number.\n",
    "\n",
    "Now find the top 15 cases."
   ]
  },
  {
   "cell_type": "code",
   "execution_count": 40,
   "metadata": {},
   "outputs": [
    {
     "data": {
      "text/plain": [
       "THEFT                         1245111\n",
       "BATTERY                       1079178\n",
       "CRIMINAL DAMAGE                702702\n",
       "NARCOTICS                      674831\n",
       "BURGLARY                       369056\n",
       "OTHER OFFENSE                  368169\n",
       "ASSAULT                        360244\n",
       "MOTOR VEHICLE THEFT            271624\n",
       "ROBBERY                        229467\n",
       "DECEPTIVE PRACTICE             225180\n",
       "CRIMINAL TRESPASS              171596\n",
       "PROSTITUTION                    60735\n",
       "WEAPONS VIOLATION               60335\n",
       "PUBLIC PEACE VIOLATION          48403\n",
       "OFFENSE INVOLVING CHILDREN      40260\n",
       "Name: Primary Type, dtype: int64"
      ]
     },
     "execution_count": 40,
     "metadata": {},
     "output_type": "execute_result"
    }
   ],
   "source": [
    "new_dataset['Primary Type'].value_counts().iloc[:15]"
   ]
  },
  {
   "cell_type": "code",
   "execution_count": 42,
   "metadata": {},
   "outputs": [
    {
     "data": {
      "text/plain": [
       "Index(['THEFT', 'BATTERY', 'CRIMINAL DAMAGE', 'NARCOTICS', 'BURGLARY',\n",
       "       'OTHER OFFENSE', 'ASSAULT', 'MOTOR VEHICLE THEFT', 'ROBBERY',\n",
       "       'DECEPTIVE PRACTICE', 'CRIMINAL TRESPASS', 'PROSTITUTION',\n",
       "       'WEAPONS VIOLATION', 'PUBLIC PEACE VIOLATION',\n",
       "       'OFFENSE INVOLVING CHILDREN'],\n",
       "      dtype='object')"
      ]
     },
     "execution_count": 42,
     "metadata": {},
     "output_type": "execute_result"
    }
   ],
   "source": [
    "new_dataset['Primary Type'].value_counts().iloc[:15].index"
   ]
  },
  {
   "cell_type": "code",
   "execution_count": null,
   "metadata": {},
   "outputs": [],
   "source": []
  }
 ],
 "metadata": {
  "accelerator": "GPU",
  "colab": {
   "collapsed_sections": [],
   "name": "CrimeAnalysis.ipynb",
   "provenance": []
  },
  "kernelspec": {
   "display_name": "Python 3",
   "language": "python",
   "name": "python3"
  },
  "language_info": {
   "codemirror_mode": {
    "name": "ipython",
    "version": 3
   },
   "file_extension": ".py",
   "mimetype": "text/x-python",
   "name": "python",
   "nbconvert_exporter": "python",
   "pygments_lexer": "ipython3",
   "version": "3.7.4"
  }
 },
 "nbformat": 4,
 "nbformat_minor": 1
}
